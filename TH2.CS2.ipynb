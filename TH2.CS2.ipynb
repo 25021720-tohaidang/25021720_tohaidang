{
 "cells": [
  {
   "cell_type": "code",
   "execution_count": 1,
   "id": "937f88da-d5dd-4ac9-bbde-88761607be43",
   "metadata": {},
   "outputs": [
    {
     "name": "stdout",
     "output_type": "stream",
     "text": [
      "Hello World!\n"
     ]
    }
   ],
   "source": [
    "#W2A1\n",
    "\n",
    "print(\"Hello World!\")"
   ]
  },
  {
   "cell_type": "code",
   "execution_count": 15,
   "id": "bac2a7bd-b487-4435-b56a-1411eaba0c0c",
   "metadata": {},
   "outputs": [
    {
     "name": "stdin",
     "output_type": "stream",
     "text": [
      " 5\n",
      " 7\n"
     ]
    },
    {
     "name": "stdout",
     "output_type": "stream",
     "text": [
      "12\n"
     ]
    },
    {
     "name": "stdin",
     "output_type": "stream",
     "text": [
      "nhập họ tên: Tô Hải ĐĂng\n"
     ]
    },
    {
     "name": "stdout",
     "output_type": "stream",
     "text": [
      "xin chào Tô Hải ĐĂng !\n"
     ]
    }
   ],
   "source": [
    "#W2A2\n",
    "'''\n",
    "a=input() # mac dinh la chuoi\n",
    "b = inpuy()\n",
    "c = a + b#phep cong tren 2 chuoi ki tu\n",
    "print(c) # ket qua la mot chuoi\n",
    "'''\n",
    "so1 = int(input())\n",
    "so2 = int(input())\n",
    "tong = so1 + so2\n",
    "print(tong)\n",
    "\n",
    "#bt in loi chao\n",
    "x = input(\"nhập họ tên:\")\n",
    "print(\"xin chào\",x,\"!\")"
   ]
  },
  {
   "cell_type": "code",
   "execution_count": 9,
   "id": "6fd1746a-e513-41fd-8208-cfbec34088cd",
   "metadata": {},
   "outputs": [
    {
     "name": "stdin",
     "output_type": "stream",
     "text": [
      " 12/10\n"
     ]
    },
    {
     "name": "stdout",
     "output_type": "stream",
     "text": [
      "12 + 10 = 22\n",
      "12 - 10 = 2\n",
      "12 * 10 = 120\n",
      "12 / 10 = 1.2\n",
      "12 // 10 = 1\n",
      "12 % 10 = 2\n"
     ]
    }
   ],
   "source": [
    "#W2A3\n",
    "\n",
    "a , b = map(int , input ().split('/'))\n",
    "print(f'{a} + {b} = {a+b}')\n",
    "print(f'{a} - {b} = {a-b}')\n",
    "print(f'{a} * {b} = {a*b}')\n",
    "print(f'{a} / {b} = {a/b}')\n",
    "print(f'{a} // {b} = {a//b}')\n",
    "print(f'{a} % {b} = {a%b}')"
   ]
  },
  {
   "cell_type": "code",
   "execution_count": 11,
   "id": "1d3babd4-0914-4323-9cc5-5cf7d3aa3e73",
   "metadata": {},
   "outputs": [
    {
     "name": "stdin",
     "output_type": "stream",
     "text": [
      " 8 7 9 10 10 9\n"
     ]
    },
    {
     "name": "stdout",
     "output_type": "stream",
     "text": [
      "9.1\n"
     ]
    }
   ],
   "source": [
    "#W2A4\n",
    "\n",
    "a1, b1, c1, a2, b2, a3 = map(int,input().split())\n",
    "Tb = (a1 + b1 +c1 + (a2 + b2)*2 +a3*3)/10\n",
    "print(f'{Tb:.1f}')"
   ]
  },
  {
   "cell_type": "code",
   "execution_count": 12,
   "id": "1c4373a8-fa91-498d-9058-04028caaf87e",
   "metadata": {},
   "outputs": [
    {
     "name": "stdin",
     "output_type": "stream",
     "text": [
      " 2 3\n"
     ]
    },
    {
     "name": "stdout",
     "output_type": "stream",
     "text": [
      "8\n"
     ]
    }
   ],
   "source": [
    "#W2A5\n",
    "\n",
    "a, b = map(int,input().split())\n",
    "print(f'{a**b}')\n"
   ]
  },
  {
   "cell_type": "code",
   "execution_count": 17,
   "id": "122c531c-db83-457e-95d9-9d6331ef4c14",
   "metadata": {},
   "outputs": [
    {
     "name": "stdin",
     "output_type": "stream",
     "text": [
      " 97 65\n"
     ]
    },
    {
     "name": "stdout",
     "output_type": "stream",
     "text": [
      "97 65\n"
     ]
    },
    {
     "name": "stdin",
     "output_type": "stream",
     "text": [
      " E\n"
     ]
    },
    {
     "name": "stdout",
     "output_type": "stream",
     "text": [
      "37 %\n"
     ]
    }
   ],
   "source": [
    "#W2A6\n",
    "\n",
    "s = input()\n",
    "print(s.upper())\n",
    "s2 = input()\n",
    "s2 = ord(s2) - 32 ## trong bang ma 'a' = 97,'v' = 98.....,'z' = 122,'A' = 65\n",
    "\n",
    "print(s2, chr(s2))\n"
   ]
  },
  {
   "cell_type": "code",
   "execution_count": 1,
   "id": "7d1305ca-db9d-4873-b9c9-cbcddedec043",
   "metadata": {},
   "outputs": [
    {
     "name": "stdout",
     "output_type": "stream",
     "text": [
      "512\n",
      "512\n"
     ]
    }
   ],
   "source": [
    "#W2A7\n",
    "\n",
    "A = ((13**2)*3) + 5\n",
    "B = 13**2*3 + 5\n",
    "print(A)\n",
    "print(B)\n",
    "\n",
    "\n"
   ]
  },
  {
   "cell_type": "code",
   "execution_count": 2,
   "id": "31082baf-6248-46dd-98bd-389aebe150c6",
   "metadata": {},
   "outputs": [
    {
     "name": "stdin",
     "output_type": "stream",
     "text": [
      " 35\n"
     ]
    },
    {
     "name": "stdout",
     "output_type": "stream",
     "text": [
      "95.00\n"
     ]
    }
   ],
   "source": [
    "#W2A8\n",
    "\n",
    "C = float (input())\n",
    "F = (9/5)*C + 32\n",
    "print(f'{F:.2f}')"
   ]
  },
  {
   "cell_type": "code",
   "execution_count": 28,
   "id": "0ef40099-99c8-4734-b4f6-f932470c9eb2",
   "metadata": {},
   "outputs": [
    {
     "name": "stdin",
     "output_type": "stream",
     "text": [
      "nhập số tiền: 4\n"
     ]
    },
    {
     "name": "stdout",
     "output_type": "stream",
     "text": [
      "Tổng số tiền phải trả: 15.60 USD\n"
     ]
    }
   ],
   "source": [
    "#W2A9\n",
    "\n",
    "x =  float(input(\"nhập số tiền:\"))\n",
    "T =  x *1.4 + 10\n",
    "print (\"Tổng số tiền phải trả:\",f'{T:.2f}',\"USD\")"
   ]
  },
  {
   "cell_type": "code",
   "execution_count": 30,
   "id": "664f4703-68a3-498c-9a7a-ac1954018068",
   "metadata": {},
   "outputs": [
    {
     "name": "stdin",
     "output_type": "stream",
     "text": [
      "Nhập tên người thứ nhất: h\n",
      "Nhập tên người thứ 2: a\n",
      "Nhập tên người thứ 3: v\n"
     ]
    },
    {
     "name": "stdout",
     "output_type": "stream",
     "text": [
      "v a h\n"
     ]
    }
   ],
   "source": [
    "#W2A10\n",
    "\n",
    "a = input(\"Nhập tên người thứ nhất:\")\n",
    "b = input(\"Nhập tên người thứ 2:\")\n",
    "c = input(\"Nhập tên người thứ 3:\")\n",
    "print (c,b,a)"
   ]
  },
  {
   "cell_type": "code",
   "execution_count": 33,
   "id": "05824d7f-9ee4-464d-8b0e-3170553f224d",
   "metadata": {},
   "outputs": [
    {
     "name": "stdin",
     "output_type": "stream",
     "text": [
      " 1\n",
      " 5\n"
     ]
    },
    {
     "name": "stdout",
     "output_type": "stream",
     "text": [
      "số giây là: 3900\n"
     ]
    }
   ],
   "source": [
    "#W2A11\n",
    "giờ = int(input())\n",
    "phút = int(input())\n",
    "print (\"số giây là:\",f'{giờ*3600 + phút*60}')"
   ]
  },
  {
   "cell_type": "code",
   "execution_count": 31,
   "id": "3995b077-b8b4-4ee3-88bb-c084ec3f9fd8",
   "metadata": {},
   "outputs": [
    {
     "name": "stdin",
     "output_type": "stream",
     "text": [
      " 4\n"
     ]
    },
    {
     "name": "stdout",
     "output_type": "stream",
     "text": [
      "số lượng miếng dán là: 24\n"
     ]
    }
   ],
   "source": [
    "#W2A12\n",
    "\n",
    "a = int(input()) # a là số cạnh cảu 1 khối rubik\n",
    "print (\"số lượng miếng dán là:\",f'{a * 6}')\n",
    "\n"
   ]
  },
  {
   "cell_type": "code",
   "execution_count": 32,
   "id": "6a1dd0d3-cb6b-48ee-84c1-2041a4ee430e",
   "metadata": {},
   "outputs": [
    {
     "name": "stdin",
     "output_type": "stream",
     "text": [
      "Nhập số nguyên dương a: 2\n",
      "Nhập số nguyên dương b: 3\n"
     ]
    },
    {
     "name": "stdout",
     "output_type": "stream",
     "text": [
      "2 * 3 = 6\n"
     ]
    }
   ],
   "source": [
    "#W2A13\n",
    "\n",
    "a = int(input(\"Nhập số nguyên dương a:\"))\n",
    "b = int(input(\"Nhập số nguyên dương b:\"))\n",
    "print(f'{a} * {b} = {a*b}')"
   ]
  },
  {
   "cell_type": "code",
   "execution_count": 34,
   "id": "7d660c30-25ed-415f-b5b4-1cb570c260ba",
   "metadata": {},
   "outputs": [
    {
     "name": "stdin",
     "output_type": "stream",
     "text": [
      "nhập số a: 2\n",
      "nhập số b: 4\n"
     ]
    },
    {
     "name": "stdout",
     "output_type": "stream",
     "text": [
      "a= 2.0 ,b= 4.0\n",
      "đã hoán đổi a= 4.0 ,b= 2.0\n"
     ]
    }
   ],
   "source": [
    "#W2A14\n",
    "\n",
    "a = float(input(\"nhập số a:\"))\n",
    "b = float(input(\"nhập số b:\"))\n",
    "print(\"a=\",a,\",b=\",b)\n",
    "#hoán đổi không cần biến/hàm\n",
    "a ,b = b , a\n",
    "print(\"đã hoán đổi a=\",a,\",b=\",b)\n",
    "\n"
   ]
  },
  {
   "cell_type": "code",
   "execution_count": 50,
   "id": "127718db-3dea-4565-b2f5-b71923ab26b5",
   "metadata": {},
   "outputs": [
    {
     "name": "stdin",
     "output_type": "stream",
     "text": [
      "nhập số nguyên dương: 6\n"
     ]
    },
    {
     "name": "stdout",
     "output_type": "stream",
     "text": [
      "số sao thứ: 91\n"
     ]
    }
   ],
   "source": [
    "#W2A15\n",
    "\n",
    "n = int(input(\"nhập số nguyên dương:\"))\n",
    "so_sao = 3*n*(n-1) + 1\n",
    "print(\"số sao thứ:\",so_sao)\n"
   ]
  },
  {
   "cell_type": "code",
   "execution_count": 36,
   "id": "a1efcbd3-b035-494f-a029-87d98214009c",
   "metadata": {},
   "outputs": [
    {
     "name": "stdout",
     "output_type": "stream",
     "text": [
      "Spring\n",
      "Summer\n",
      "Autumn\n",
      "Winter\n",
      "Spring\n",
      "Summer\n",
      "Autumn\n",
      "Winter\n"
     ]
    }
   ],
   "source": [
    "#W2A16\n",
    "\n",
    "print(\"Spring\")\n",
    "print(\"Summer\")\n",
    "print(\"Autumn\")\n",
    "print(\"Winter\")\n",
    "\n",
    "#cách 2\n",
    "print(\"Spring\\nSummer\\nAutumn\\nWinter\")"
   ]
  },
  {
   "cell_type": "code",
   "execution_count": 40,
   "id": "b714b858-0dd9-4043-9c74-a1e8408327d8",
   "metadata": {},
   "outputs": [
    {
     "name": "stdout",
     "output_type": "stream",
     "text": [
      "  *  \n",
      " *** \n",
      "*****\n"
     ]
    }
   ],
   "source": [
    "#W2A17\n",
    "\n",
    "print(\"  *  \")\n",
    "print(\" *** \")\n",
    "print(\"*****\")\n",
    "\n"
   ]
  },
  {
   "cell_type": "code",
   "execution_count": 41,
   "id": "1cf15214-8dab-4c61-8235-a9b2e5e69792",
   "metadata": {},
   "outputs": [
    {
     "name": "stdout",
     "output_type": "stream",
     "text": [
      "### # #  ### ###\n",
      "#   #  #  #   #  \n",
      "#   #   # #   #   \n",
      "#   #  #  #   #   \n",
      "#   # #   #   #   \n"
     ]
    }
   ],
   "source": [
    "#W2A18\n",
    "\n",
    "print(\"### # #  ### ###\")\n",
    "print(\"#   #  #  #   #  \")\n",
    "print(\"#   #   # #   #   \")\n",
    "print(\"#   #  #  #   #   \")\n",
    "print(\"#   # #   #   #   \")"
   ]
  },
  {
   "cell_type": "code",
   "execution_count": 42,
   "id": "3af9baf0-19b1-49e4-a244-5cc77d1d3d60",
   "metadata": {},
   "outputs": [
    {
     "name": "stdout",
     "output_type": "stream",
     "text": [
      "Monday\n",
      "Tuesday\n",
      "Wednesday\n",
      "Thurday\n",
      "Friday\n",
      "Saturday\n",
      "Sunday\n"
     ]
    }
   ],
   "source": [
    "#W2A19\n",
    "\n",
    "print(\"Monday\\nTuesday\\nWednesday\\nThurday\\nFriday\\nSaturday\\nSunday\")"
   ]
  },
  {
   "cell_type": "code",
   "execution_count": 46,
   "id": "2427421d-c835-4593-bfea-8694df8529cc",
   "metadata": {},
   "outputs": [
    {
     "name": "stdout",
     "output_type": "stream",
     "text": [
      "January\n",
      "February\n",
      "March\n",
      "April\n",
      "May\n",
      "June\n",
      "July\n",
      "August\n",
      "September\n",
      "Octorber\n",
      "November\n",
      "December\n"
     ]
    }
   ],
   "source": [
    "#W2A20\n",
    "print(\"January\\nFebruary\\nMarch\\nApril\\nMay\\nJune\\nJuly\\nAugust\\nSeptember\\nOctorber\\nNovember\\nDecember\")\n"
   ]
  },
  {
   "cell_type": "code",
   "execution_count": 47,
   "id": "972a83d3-0bbc-4c96-a1cb-1ca6e59eb79e",
   "metadata": {},
   "outputs": [
    {
     "name": "stdout",
     "output_type": "stream",
     "text": [
      "Hello,world\n",
      "Hello,world\n",
      "Hello,world\n",
      "Hello,world\n",
      "Hello,world\n",
      "Hello,world\n",
      "Hello,world\n",
      "Hello,world\n",
      "Hello,world\n",
      "Hello,world\n"
     ]
    }
   ],
   "source": [
    "#W2A21\n",
    "\n",
    "print(\"Hello,world\\nHello,world\\nHello,world\\nHello,world\\nHello,world\\nHello,world\\nHello,world\\nHello,world\\nHello,world\\nHello,world\")"
   ]
  },
  {
   "cell_type": "code",
   "execution_count": null,
   "id": "f54e4dc4-ec9f-4c41-8190-5db03cf1c146",
   "metadata": {},
   "outputs": [],
   "source": []
  }
 ],
 "metadata": {
  "kernelspec": {
   "display_name": "Python [conda env:base] *",
   "language": "python",
   "name": "conda-base-py"
  },
  "language_info": {
   "codemirror_mode": {
    "name": "ipython",
    "version": 3
   },
   "file_extension": ".py",
   "mimetype": "text/x-python",
   "name": "python",
   "nbconvert_exporter": "python",
   "pygments_lexer": "ipython3",
   "version": "3.13.5"
  }
 },
 "nbformat": 4,
 "nbformat_minor": 5
}
