{
 "cells": [
  {
   "cell_type": "code",
   "execution_count": 3,
   "id": "f77c4be2-3563-4720-9315-eb07294c93a5",
   "metadata": {},
   "outputs": [
    {
     "name": "stdin",
     "output_type": "stream",
     "text": [
      "Nhấp số nguyên n: 4\n"
     ]
    },
    {
     "name": "stdout",
     "output_type": "stream",
     "text": [
      "4 * 2 = 8\n"
     ]
    }
   ],
   "source": [
    "# bài 1\n",
    "\n",
    "n = int(input(\"Nhấp số nguyên n:\"))\n",
    "print(f'{n} * 2 = {n*2}')"
   ]
  },
  {
   "cell_type": "code",
   "execution_count": 5,
   "id": "fe6b5045-4379-4af8-87a5-7440261de204",
   "metadata": {},
   "outputs": [
    {
     "name": "stdin",
     "output_type": "stream",
     "text": [
      " nhập chiều rộng khu đất: 4\n",
      " nhập chiều dài khu đất: 6\n"
     ]
    },
    {
     "name": "stdout",
     "output_type": "stream",
     "text": [
      "11.44\n"
     ]
    }
   ],
   "source": [
    "# bài 2\n",
    "\n",
    "a = float(input(\" nhập chiều rộng khu đất:\"))\n",
    "b = float(input(\" nhập chiều dài khu đất:\"))\n",
    "S = a * b - 3.14*((a/2)**2)\n",
    "print(f'{S:.2f}')"
   ]
  },
  {
   "cell_type": "code",
   "execution_count": 7,
   "id": "55761d92-e111-41c1-8aae-278d92e5a592",
   "metadata": {},
   "outputs": [
    {
     "name": "stdin",
     "output_type": "stream",
     "text": [
      "nhập 1 kí tự: A\n"
     ]
    },
    {
     "name": "stdout",
     "output_type": "stream",
     "text": [
      "chữ thường tương ứng: a\n"
     ]
    }
   ],
   "source": [
    "# bài 3\n",
    "\n",
    "c = input(\"nhập 1 kí tự:\")\n",
    "if c.isupper():\n",
    "    print(\"chữ thường tương ứng:\",c.lower())\n",
    "else:\n",
    "    print(\"chữ hoa tương ứng:\",c.upper())"
   ]
  },
  {
   "cell_type": "code",
   "execution_count": 9,
   "id": "23c6d64e-4f81-4a34-9e41-f4797526747f",
   "metadata": {},
   "outputs": [
    {
     "name": "stdin",
     "output_type": "stream",
     "text": [
      "nhập vào một kí tự: c\n"
     ]
    },
    {
     "name": "stdout",
     "output_type": "stream",
     "text": [
      "kí tự {'c'} là kí tự alphabet\n"
     ]
    }
   ],
   "source": [
    "# bài 4\n",
    "\n",
    "c = input(\"nhập vào một kí tự:\")\n",
    "if c.isalpha():\n",
    "    print(\"kí tự\", {c} ,\"là kí tự alphabet\")\n",
    "else:\n",
    "    print(\"kí tự\", {c} ,\"không phải là kí tự alphabet\")"
   ]
  },
  {
   "cell_type": "code",
   "execution_count": 11,
   "id": "9de25797-447a-4ad8-8e73-ed0f10d884d5",
   "metadata": {},
   "outputs": [
    {
     "name": "stdin",
     "output_type": "stream",
     "text": [
      "nhập một chữ hoa: D\n"
     ]
    },
    {
     "name": "stdout",
     "output_type": "stream",
     "text": [
      "chữ thường liền trước d thường tương ứng của D là c\n"
     ]
    }
   ],
   "source": [
    "# bài 5\n",
    "\n",
    "C = input(\"nhập một chữ hoa:\")\n",
    "if C=='A':\n",
    "    print(\"đây là trường hợp dặc biệt không có thường liền trước a\")\n",
    "else:\n",
    "    c = C.lower()\n",
    "    t = chr(ord(c.lower())-1)\n",
    "    print(f'chữ thường liền trước {c} thường tương ứng của {C} là {t}')"
   ]
  },
  {
   "cell_type": "code",
   "execution_count": 16,
   "id": "6d5a95a7-682c-4f10-b04c-3cf9fbbb1885",
   "metadata": {},
   "outputs": [
    {
     "name": "stdin",
     "output_type": "stream",
     "text": [
      "nhập độ dài cạnh 1 của tam giác: 2\n",
      "nhập độ dài cạnh 2 của tam giác: 3\n",
      "nhập đồ dài cạnh 3 của tam giác: 4\n"
     ]
    },
    {
     "name": "stdout",
     "output_type": "stream",
     "text": [
      "diện tích tam giác là: 2.9047375096555625\n"
     ]
    }
   ],
   "source": [
    "#bài 6\n",
    "\n",
    "a = float(input(\"nhập độ dài cạnh 1 của tam giác:\"))\n",
    "b = float(input(\"nhập độ dài cạnh 2 của tam giác:\"))\n",
    "c = float(input(\"nhập đồ dài cạnh 3 của tam giác:\"))\n",
    "if (a+b>c) and (a+c>b) and (b+c>a):\n",
    "    import math\n",
    "    p = (a+b+c)/2\n",
    "    print(\"diện tích tam giác là:\",math.sqrt(p*(p-a)*(p-b)*(p-c)))\n",
    "else:\n",
    "    print(\"khong phai 3 canh cua tam giac\")\n",
    "    \n"
   ]
  },
  {
   "cell_type": "code",
   "execution_count": 20,
   "id": "bac62b63-f545-4e5d-b68d-721a9292cf25",
   "metadata": {},
   "outputs": [
    {
     "name": "stdin",
     "output_type": "stream",
     "text": [
      "nhập chuỗi kí tự >= 20 kí tự a b c d f g  h u y j m i k n g f v j i  y b  j j\n"
     ]
    },
    {
     "name": "stdout",
     "output_type": "stream",
     "text": [
      "c\n",
      "f\n"
     ]
    }
   ],
   "source": [
    "#bài 7\n",
    "\n",
    "chuoikitu = input(\"nhập chuỗi kí tự >= 20 kí tự\")\n",
    "print(chuoikitu[4])\n",
    "print(chuoikitu[8])\n"
   ]
  },
  {
   "cell_type": "code",
   "execution_count": 4,
   "id": "22c0119e-90c8-4cce-81b1-eb85b4ff4843",
   "metadata": {},
   "outputs": [
    {
     "name": "stdin",
     "output_type": "stream",
     "text": [
      "Nhập họ tên chủ hộ: Nguyen Xuan Hai\n",
      "chi so thang truoc: 2000\n",
      "chi so thang nay: 2586\n"
     ]
    },
    {
     "name": "stdout",
     "output_type": "stream",
     "text": [
      "tổng số tiền phải trả: 1855.5048000000002\n"
     ]
    }
   ],
   "source": [
    "#bài 8\n",
    "\n",
    "a = input(\"Nhập họ tên chủ hộ:\")\n",
    "b = float(input(\"chi so thang truoc:\"))\n",
    "c = float(input(\"chi so thang nay:\"))\n",
    "if (0 < c - b <= 50):\n",
    "    T = (c - b)*1.984*(1+0.08)\n",
    "    print(\"tổng số tiền phải trả:\",T)\n",
    "elif ( 51 <= c - b <= 100):\n",
    "    T = (50*1.984 + (c - b - 50)*2.050)*1.08\n",
    "    print(\"tổng số tiền phải trả:\",T)\n",
    "elif (101 <= c - b <= 200):\n",
    "    T = (50*(1.984+2.050)+(c-b-100)*2.380)*1.08\n",
    "    print(\"tổng số tiền phải trả:\",T)\n",
    "elif (201<c-b<=300):\n",
    "    T = (50*(1.984+2.050)+100*(2.380)+(c-b-200)*2.998)*1.08\n",
    "    print(\"tổng số tiền phải trả:\",T)\n",
    "elif (301<c-b<=400):\n",
    "    T = (50*(1.984+2.050)+100*(2.380+2.998)+(c-b-300)*3.350)*1.08\n",
    "    print(\"tổng số tiền phải trả:\",T)\n",
    "else:\n",
    "    T = (50*(1.984+2.050)+100*(2.380+2.998+3.350)+(c-b-400)*3.460)*1.08\n",
    "    print(\"tổng số tiền phải trả:\",T)\n",
    "\n"
   ]
  },
  {
   "cell_type": "code",
   "execution_count": null,
   "id": "bd8f45b7-dbd4-4a67-a556-f96deba66e64",
   "metadata": {},
   "outputs": [],
   "source": [
    "#mot so bai tap khac\n"
   ]
  },
  {
   "cell_type": "code",
   "execution_count": 1,
   "id": "0e7677ee-d0a9-47fd-9d6e-1d749101eb0d",
   "metadata": {},
   "outputs": [
    {
     "name": "stdin",
     "output_type": "stream",
     "text": [
      "Nhập số nguyên: 4\n"
     ]
    },
    {
     "name": "stdout",
     "output_type": "stream",
     "text": [
      "4 là số chẵn\n"
     ]
    }
   ],
   "source": [
    "#bài 1\n",
    "\n",
    "a = int(input(\"Nhập số nguyên:\"))\n",
    "if a % 2 == 0:\n",
    "    print( a, \"là số chẵn\")\n",
    "else:\n",
    "    print(a,\"là số lẻ\")\n",
    "\n"
   ]
  },
  {
   "cell_type": "code",
   "execution_count": 3,
   "id": "449cce05-718d-4def-a662-13d848a93812",
   "metadata": {},
   "outputs": [
    {
     "name": "stdin",
     "output_type": "stream",
     "text": [
      "nhập số nguyên 25\n"
     ]
    },
    {
     "name": "stdout",
     "output_type": "stream",
     "text": [
      "True\n"
     ]
    }
   ],
   "source": [
    "# bài 2\n",
    "\n",
    "a = int(input(\"nhập số nguyên\"))\n",
    "if a % 10 == 5:\n",
    "    print(\"True\")\n",
    "else:\n",
    "    print(\"False\")\n",
    "    "
   ]
  },
  {
   "cell_type": "code",
   "execution_count": 4,
   "id": "3fa7d963-bee7-489d-af5d-2e6cd410bff4",
   "metadata": {},
   "outputs": [
    {
     "name": "stdin",
     "output_type": "stream",
     "text": [
      "nhập số nguyên 20\n"
     ]
    },
    {
     "name": "stdout",
     "output_type": "stream",
     "text": [
      "False\n"
     ]
    }
   ],
   "source": [
    "#bài 3\n",
    "\n",
    "a = int(input(\"nhập số nguyên\"))\n",
    "if a % 15 == 0:\n",
    "    print(\"True\")\n",
    "else:\n",
    "    print(\"False\")\n",
    "    "
   ]
  },
  {
   "cell_type": "code",
   "execution_count": 6,
   "id": "d7b01fb9-c3b5-42be-847c-d05e88015c24",
   "metadata": {},
   "outputs": [
    {
     "name": "stdin",
     "output_type": "stream",
     "text": [
      "nhập năm sinh: 2006\n"
     ]
    },
    {
     "name": "stdout",
     "output_type": "stream",
     "text": [
      "đủ tuổi\n"
     ]
    }
   ],
   "source": [
    "#bài 4\n",
    "\n",
    "a = int(input(\"nhập năm sinh:\"))\n",
    "if 2025 - a >= 18 :\n",
    "    print(\"đủ tuổi\")\n",
    "else:\n",
    "    print(\"không đủ tuổi\")"
   ]
  },
  {
   "cell_type": "code",
   "execution_count": 7,
   "id": "fcb16c72-230e-466f-8351-70fad2a68af5",
   "metadata": {},
   "outputs": [
    {
     "name": "stdin",
     "output_type": "stream",
     "text": [
      "nhập số: 1\n",
      "nhập số: 2\n"
     ]
    },
    {
     "name": "stdout",
     "output_type": "stream",
     "text": [
      "2.0\n"
     ]
    }
   ],
   "source": [
    "#bài 5\n",
    "\n",
    "a = float(input(\"nhập số:\"))\n",
    "b = float(input(\"nhập số:\"))\n",
    "if a > b:\n",
    "    print(a)\n",
    "elif b > a:\n",
    "    print(b)\n",
    "elif a == b:\n",
    "    print(\"bằng nhau\")"
   ]
  },
  {
   "cell_type": "code",
   "execution_count": 24,
   "id": "8c397f82-367d-4c5c-a7f7-41fcc7878b1c",
   "metadata": {},
   "outputs": [
    {
     "name": "stdin",
     "output_type": "stream",
     "text": [
      "nhập 1 kí tự \"\n"
     ]
    },
    {
     "name": "stdout",
     "output_type": "stream",
     "text": [
      "kí tự\n"
     ]
    }
   ],
   "source": [
    "# bài 6\n",
    "\n",
    "a = input(\"nhập 1 kí tự\")\n",
    "if a.isdigit() :\n",
    "    print(\"là số\")\n",
    "elif a.isalpha() :\n",
    "    print(\"là chữ\")\n",
    "else:\n",
    "    print(\"kí tự\")"
   ]
  },
  {
   "cell_type": "code",
   "execution_count": 25,
   "id": "2ab947b3-61c8-4330-ac4f-06a9e2cc9abc",
   "metadata": {},
   "outputs": [
    {
     "name": "stdin",
     "output_type": "stream",
     "text": [
      "nhập 1 số từ 0-10: 2\n"
     ]
    },
    {
     "name": "stdout",
     "output_type": "stream",
     "text": [
      "yếu\n"
     ]
    }
   ],
   "source": [
    "#bài 7\n",
    "\n",
    "a = float(input(\"nhập 1 số từ 0-10:\"))\n",
    "if a >= 8:\n",
    "    print(\"giỏi\")\n",
    "elif 6.5 <= a < 8:\n",
    "    print(\"khá\")\n",
    "elif 5 <= a < 6.5:\n",
    "    print(\"trung bình\")\n",
    "elif a < 5:\n",
    "    print(\"yếu\")"
   ]
  },
  {
   "cell_type": "code",
   "execution_count": 27,
   "id": "7d6ab6b4-0574-4bf9-a135-ad624dee1a52",
   "metadata": {},
   "outputs": [
    {
     "name": "stdin",
     "output_type": "stream",
     "text": [
      "nhập năm: 2000\n"
     ]
    },
    {
     "name": "stdout",
     "output_type": "stream",
     "text": [
      "năm nhuận\n"
     ]
    }
   ],
   "source": [
    "# bài 8\n",
    "\n",
    "a = int(input(\"nhập năm:\"))\n",
    "if (a % 4 == 0) or ( a % 400 == 0 and a % 100 != 0):\n",
    "    print(\"năm nhuận\")\n",
    "else:\n",
    "    print(\"không là năm nhuận\")"
   ]
  },
  {
   "cell_type": "code",
   "execution_count": 30,
   "id": "f1dd69d2-4631-4146-bf80-fbb5b4216a2f",
   "metadata": {},
   "outputs": [
    {
     "name": "stdin",
     "output_type": "stream",
     "text": [
      "nhập số từ 0 đến 9 5\n"
     ]
    },
    {
     "name": "stdout",
     "output_type": "stream",
     "text": [
      "năm\n"
     ]
    }
   ],
   "source": [
    "# bài 9\n",
    "\n",
    "a = int(input(\"nhập số từ 0 đến 9\"))\n",
    "match a:\n",
    "   case 0:\n",
    "       print(\"không\")\n",
    "   case 1:\n",
    "       print(\"một\")\n",
    "   case 2:\n",
    "       print(\"hai\")\n",
    "   case 3:\n",
    "       print(\"ba\")\n",
    "   case 4:\n",
    "       print(\"bốn\")\n",
    "   case 5:\n",
    "       print(\"năm\")\n",
    "   case 6:\n",
    "       print(\"sáu\")\n",
    "   case 7:\n",
    "       print(\"bảy\")\n",
    "   case 8:\n",
    "       print(\"tám\")\n",
    "   case 9:\n",
    "       print(\"chín\")\n",
    "  "
   ]
  },
  {
   "cell_type": "code",
   "execution_count": 31,
   "id": "e9d2d08f-7879-49cc-a578-20cd95cb2c65",
   "metadata": {},
   "outputs": [
    {
     "name": "stdin",
     "output_type": "stream",
     "text": [
      "nhập điểm thi 4.5\n"
     ]
    },
    {
     "name": "stdout",
     "output_type": "stream",
     "text": [
      "qua môn\n"
     ]
    }
   ],
   "source": [
    "# bài 10\n",
    "\n",
    "a = float(input(\"nhập điểm thi\"))\n",
    "if a >= 4:\n",
    "    print(\"qua môn\")\n",
    "else :\n",
    "    print(\"học lại\")"
   ]
  },
  {
   "cell_type": "code",
   "execution_count": 33,
   "id": "8b28afc8-4a27-426c-a60c-5af0a0095174",
   "metadata": {},
   "outputs": [
    {
     "name": "stdin",
     "output_type": "stream",
     "text": [
      "nhập năm sinh 2008\n"
     ]
    },
    {
     "name": "stdout",
     "output_type": "stream",
     "text": [
      "không đủ tuổi\n"
     ]
    }
   ],
   "source": [
    "# bài 11\n",
    "\n",
    "a = int(input(\"nhập năm sinh\"))\n",
    "if 2025 - a >= 18:\n",
    "    print(\"đủ tuổi\")\n",
    "else:\n",
    "    print(\"không đủ tuổi\")"
   ]
  },
  {
   "cell_type": "code",
   "execution_count": 4,
   "id": "27a26350-184d-4c3d-bda5-4ec6ea925ac4",
   "metadata": {},
   "outputs": [
    {
     "name": "stdin",
     "output_type": "stream",
     "text": [
      " 30/02/2000\n"
     ]
    },
    {
     "name": "stdout",
     "output_type": "stream",
     "text": [
      "invalid\n"
     ]
    }
   ],
   "source": [
    "#nhap vao ngay/thang/nam theo dinh dang\n",
    "#kiem tra do co phai ngay hop le khong\n",
    "#29/02/2001:invalid\n",
    "#29/2/2000:valid\n",
    "#ngay<1:invalid ngay > ngay toi da trong thang-invalid\n",
    "#thang khong thuoc[1;12]-invalid\n",
    "#nam khong thuoc[1900;2100]-invalid\n",
    "#nam nhuan(nam chia het cho 4 nhung ko chia het cho 100 hoac nam chia het cho 400)\n",
    "\n",
    "#bai 12\n",
    "\n",
    "dd,mm,yy = map(int,input().split(\"/\"))\n",
    "if (((dd > 0) and (dd <= 31) and (0 < mm <= 12)) and (1900 <= yy <= 2100)):\n",
    "    if (((mm==4) or (mm==6) or (mm==9) or (mm==11)) and (dd <= 30)):\n",
    "        print(\"valid\")\n",
    "    elif (((mm==1) or (mm==3) or (mm==5) or (mm==7) or (mm==8) or (mm==10) or (mm==12)) and (dd <= 31)):\n",
    "        print(\"valid\")\n",
    "    else:\n",
    "        if ((yy%4==0 and yy%100!=0) or (yy%400==0)):\n",
    "            if (dd <= 29):\n",
    "                print(\"valid\")\n",
    "            else:\n",
    "                print(\"invalid\")\n",
    "        else:\n",
    "            if (dd < 29):\n",
    "                print(\"valid\")\n",
    "            else:\n",
    "                print(\"invalid\")\n",
    "else:\n",
    "    print(\"invalid\")\n",
    "    \n",
    "\n"
   ]
  },
  {
   "cell_type": "code",
   "execution_count": null,
   "id": "bdd6521c-489a-4db9-b625-0b366f7087f8",
   "metadata": {},
   "outputs": [],
   "source": []
  }
 ],
 "metadata": {
  "kernelspec": {
   "display_name": "Python [conda env:base] *",
   "language": "python",
   "name": "conda-base-py"
  },
  "language_info": {
   "codemirror_mode": {
    "name": "ipython",
    "version": 3
   },
   "file_extension": ".py",
   "mimetype": "text/x-python",
   "name": "python",
   "nbconvert_exporter": "python",
   "pygments_lexer": "ipython3",
   "version": "3.13.5"
  }
 },
 "nbformat": 4,
 "nbformat_minor": 5
}
