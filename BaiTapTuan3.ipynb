{
 "cells": [
  {
   "cell_type": "code",
   "execution_count": 1,
   "id": "2ae9a0c1-02ae-437e-b955-a13349cd9142",
   "metadata": {},
   "outputs": [
    {
     "name": "stdin",
     "output_type": "stream",
     "text": [
      " 5 7\n"
     ]
    },
    {
     "name": "stdout",
     "output_type": "stream",
     "text": [
      "sau khi hoán đổi a = 7 b= 5\n"
     ]
    }
   ],
   "source": [
    "#W3A2\n",
    "#Hoán đổi hai số không sd biến tạm thời \n",
    "#Sử dụng phép toán XOR trên bit để hoán đổi giá trị của hai biến\n",
    "\n",
    "a,b = map(int,input().split(' '))\n",
    "\n",
    "a = a ^ b #a=a xor b\n",
    "b = a ^ b #b=(a xor b) xor b = a\n",
    "a = b ^ a #a=(a xor b)xor b =a\n",
    "print(\"sau khi hoán đổi a =\",a,\"b=\",b)"
   ]
  },
  {
   "cell_type": "code",
   "execution_count": 2,
   "id": "63c61659-55bd-4baf-8656-1398c8f204ca",
   "metadata": {},
   "outputs": [
    {
     "name": "stdin",
     "output_type": "stream",
     "text": [
      "Nhập số a 4\n"
     ]
    },
    {
     "name": "stdout",
     "output_type": "stream",
     "text": [
      "4 là lũy thừa của 2\n"
     ]
    }
   ],
   "source": [
    "#W3A3\n",
    "#Kiểm tra xem một số có phải là lũy thừa của 2 hay không \n",
    "#Sử dụng các toán tử bitwise để xác định xem một số có phải là lũy thừa của 2 hay không\n",
    "\n",
    "a = int(input(\"Nhập số a\"))\n",
    "\n",
    "if a > 0 and a & (a -1 ) == 0:\n",
    "    print(a,\"là lũy thừa của 2\")\n",
    "else:\n",
    "    print(a,\"không là lũy thừa của 2\")\n"
   ]
  },
  {
   "cell_type": "code",
   "execution_count": 3,
   "id": "e5db8562-2d6d-4e1a-9450-73c5cfddccda",
   "metadata": {},
   "outputs": [
    {
     "name": "stdin",
     "output_type": "stream",
     "text": [
      " 5 4\n"
     ]
    },
    {
     "name": "stdout",
     "output_type": "stream",
     "text": [
      "1\n"
     ]
    }
   ],
   "source": [
    "#W3A4 Viêt chương trình chia một số m cho n, kết quả thu được làm tròn xuống \n",
    "import math\n",
    "m,n = map(float,input().split(' '))\n",
    "print(math.floor(m/n))\n"
   ]
  },
  {
   "cell_type": "code",
   "execution_count": 4,
   "id": "9c75fdf6-e64c-44cb-a7db-40c5deeeb69d",
   "metadata": {},
   "outputs": [
    {
     "name": "stdin",
     "output_type": "stream",
     "text": [
      " 5 4\n"
     ]
    },
    {
     "name": "stdout",
     "output_type": "stream",
     "text": [
      "2\n"
     ]
    }
   ],
   "source": [
    "# W3A5 Viêt chương trình chia một số m cho n, kết quả thu được làm tròn lên\n",
    "import math\n",
    "m,n = map(float,input().split(' '))\n",
    "print(math.ceil(m/n))"
   ]
  },
  {
   "cell_type": "code",
   "execution_count": 7,
   "id": "6f9b5207-9fae-4dd1-b13b-52cbfe6e1bf1",
   "metadata": {},
   "outputs": [
    {
     "name": "stdin",
     "output_type": "stream",
     "text": [
      "Nhập số nguyên dương 5\n"
     ]
    },
    {
     "name": "stdout",
     "output_type": "stream",
     "text": [
      "Odd\n"
     ]
    }
   ],
   "source": [
    "#W3A6\n",
    "#[Even and Odd] Nhập vào một số nguyên dương x, bạn hãy kiểm tra xem x là số chẵn hay lẻ. \n",
    "#Nếu x là số chẵn, in ra \"Even\". Nếu x là số lẻ, in ra \"Odd\"\n",
    "x = int(input(\"Nhập số nguyên dương\"))\n",
    "if x > 0:\n",
    "    if x % 2 == 0:\n",
    "        print(\"Even\")\n",
    "    else:\n",
    "        print(\"Odd\")\n",
    "else:\n",
    "    print(\"đây không phải số nguyên dương\")"
   ]
  },
  {
   "cell_type": "code",
   "execution_count": 9,
   "id": "a7d41684-94c7-4bd6-9500-c33e3fe22bfd",
   "metadata": {},
   "outputs": [
    {
     "name": "stdin",
     "output_type": "stream",
     "text": [
      " -3 -6\n"
     ]
    },
    {
     "name": "stdout",
     "output_type": "stream",
     "text": [
      "Yes\n"
     ]
    }
   ],
   "source": [
    "#W3A7\n",
    "#[Check negative numbers] Nhập vào hai số nguyên a, b. Nếu cả hai số a, b đều âm thì in ra \"Yes\", ngược lại in ra \"No\".\n",
    "\n",
    "a,b = map(int,input().split(' '))\n",
    "if a < 0 and b < 0:\n",
    "    print(\"Yes\")\n",
    "else:\n",
    "    print(\"No\")"
   ]
  },
  {
   "cell_type": "code",
   "execution_count": 10,
   "id": "8c89a246-e0ac-4f03-b378-65f1b1982f6d",
   "metadata": {},
   "outputs": [
    {
     "name": "stdin",
     "output_type": "stream",
     "text": [
      "nhập 1 chuỗi a gồm các chữ cái thường abcdefghikmn\n",
      "nhập 1 chuỗi b gồm các chữ cái thường helloworld\n"
     ]
    },
    {
     "name": "stdout",
     "output_type": "stream",
     "text": [
      "True\n"
     ]
    }
   ],
   "source": [
    "#W3A8\n",
    "#[Longer string] Nhập vào hai chuỗi a, b gồm các chữ cái thường. In ra \"True\" nếu chuỗi a dài hơn chuỗi b. Ngược lại in ra \"False\".\n",
    "a = input(\"nhập 1 chuỗi a gồm các chữ cái thường\")\n",
    "b = input(\"nhập 1 chuỗi b gồm các chữ cái thường\")\n",
    "if len(a) > len (b):\n",
    "    print(\"True\")\n",
    "else:\n",
    "    print(\"False\")"
   ]
  },
  {
   "cell_type": "code",
   "execution_count": 16,
   "id": "8e254c35-16dd-4ee5-a8e4-e1a4154042a2",
   "metadata": {},
   "outputs": [
    {
     "name": "stdin",
     "output_type": "stream",
     "text": [
      " 4 5 6\n"
     ]
    },
    {
     "name": "stdout",
     "output_type": "stream",
     "text": [
      "Yes\n"
     ]
    }
   ],
   "source": [
    "#W3A9\n",
    "#[Triangle] \n",
    "#Nhập vào 3 số nguyên dương a, b, c. Kiểm tra xem a, b, c có cấu thành độ dài cạnh của 1 tam giác được không.\n",
    "#Nếu a, b, c cấu tạo thành được một tam giác, in ra \"Yes\". Ngược lại in ra \"No\".\n",
    "\n",
    "a,b,c = map(int,input().split(' '))\n",
    "if (a>0) and(b>0) and(c>0):\n",
    "    if (a + b > c) and ( a + c > b) and (b + c > a):\n",
    "        print(\"Yes\")\n",
    "    else:\n",
    "        print(\"No\")\n",
    "else:\n",
    "    print(\"hãy nhập 3 số nguyên dương\")\n"
   ]
  },
  {
   "cell_type": "code",
   "execution_count": 14,
   "id": "d68277df-aa58-4b8f-97a2-4ccdb0355fc9",
   "metadata": {},
   "outputs": [
    {
     "name": "stdin",
     "output_type": "stream",
     "text": [
      " 1 15 23 40\n"
     ]
    },
    {
     "name": "stdout",
     "output_type": "stream",
     "text": [
      "40\n"
     ]
    }
   ],
   "source": [
    "#W3A10\n",
    "#[Largest number] Nhập vào 4 số nguyên. In ra màn hình số nguyên lớn nhất trong 4 số.\n",
    "a,b,c,d = map(int,input().split(' '))\n",
    "so_LN = max(a,b,c,d)\n",
    "print(so_LN)"
   ]
  },
  {
   "cell_type": "code",
   "execution_count": 21,
   "id": "047718f7-0cc6-4552-8638-84d52ff9503e",
   "metadata": {},
   "outputs": [
    {
     "name": "stdin",
     "output_type": "stream",
     "text": [
      " 3 5 8\n"
     ]
    }
   ],
   "source": [
    "#W3A11\n",
    "#[Phân loại tam giác] \n",
    "#Nhập vào 3 số nguyên dương a,b,c là độ dài 3 cạnh của một tam giác. Kiểm tra 3 số đã nhập có tạo thành một tam giác hợp lệ hay không.\n",
    "#Nếu không in ra \"Không phải tam giác\". Nếu có, phân loại tam giác đó là \"Tam giác đều\", \"Tam giác cân\", hay \"Tam giác thường\"\n",
    "\n",
    "a,b,c = map(int,input().split(' '))\n",
    "if (a>0) and(b>0) and(c>0):\n",
    "    if (a + b > c) and ( a + c > b) and (b + c > a):\n",
    "        if a == b == c:\n",
    "            print(\"tam giác đều\")\n",
    "        elif (a == b != c) or (a == c != b) or (b == c != a):\n",
    "            print(\"tam giác cân\")\n",
    "        elif (a**2 + b**2 == c**2) or (a**2 + c**2 == b**2) or (c**2 + b**2 == a**2):\n",
    "            print(\"tam giác vuông nhưng không cần kiểm tra\")\n",
    "        else:\n",
    "            print(\"tam giác thường\")\n",
    "    else:\n",
    "        print(\"không phải là tam giác\")\n",
    "else:\n",
    "    print(\"hãy nhập 3 số nguyên dương\")"
   ]
  },
  {
   "cell_type": "code",
   "execution_count": 24,
   "id": "30985098-4042-43d2-831f-52a71a6c4d77",
   "metadata": {},
   "outputs": [
    {
     "name": "stdin",
     "output_type": "stream",
     "text": [
      "nhập số năm 2000\n"
     ]
    },
    {
     "name": "stdout",
     "output_type": "stream",
     "text": [
      "Yes\n"
     ]
    }
   ],
   "source": [
    "# W3A12\n",
    "#[Kiểm tra năm nhuận] \n",
    "#Nhập vào một số nguyên dương n là số năm, kiểm tra xem năm đó có phải là năm nhuận hay không. \n",
    "#Năm nhuận là năm chia hết cho 4 nhưng không chia hết cho 100, hoặc chia hết cho 400. \n",
    "#Nếu là năm nhuận in ra \"Yes\", nếu không in ra \"No\"\n",
    "\n",
    "n = int(input(\"nhập số năm\"))\n",
    "if 1900 <= n <= 2100:\n",
    "    if (n % 400 == 0) or ((n % 4 == 0) and (n % 100 != 0 )):\n",
    "        print(\"Yes\")\n",
    "    else:\n",
    "        print(\"No\")\n",
    "else:\n",
    "    print(\"Error\")"
   ]
  },
  {
   "cell_type": "code",
   "execution_count": 25,
   "id": "7477ff5e-962a-488c-af7e-fb9fdde28803",
   "metadata": {},
   "outputs": [
    {
     "name": "stdin",
     "output_type": "stream",
     "text": [
      " 1 3\n"
     ]
    },
    {
     "name": "stdout",
     "output_type": "stream",
     "text": [
      "-3.00\n"
     ]
    }
   ],
   "source": [
    "#W3A14\n",
    "#[Giải phương trình bậc nhất] \n",
    "#Nhập vào hai số thực a và b của phương trình ax + b = 0. Tìm và in ra nghiệm của phương trình,\n",
    "#kết quả làm tròn đến số thập phân thứ 2. In ra \"Vô nghiệm\" hoặc \"Vô số nghiệm\" trong trường hợp tương ứng.\n",
    "\n",
    "a,b = map(float,input().split(' '))\n",
    "if a == 0:\n",
    "    if b == 0:\n",
    "        print(\"Vô số nghiệm\")\n",
    "    else:\n",
    "        print(\"vô nghiệm\")\n",
    "else:\n",
    "    x = -b/a\n",
    "    print(f'{x:.2f}')"
   ]
  },
  {
   "cell_type": "code",
   "execution_count": 28,
   "id": "a91c3353-fa04-4688-afe0-4edfe91397c6",
   "metadata": {},
   "outputs": [
    {
     "name": "stdin",
     "output_type": "stream",
     "text": [
      "nhập điểm trung bình của 1 học sinh 7\n"
     ]
    },
    {
     "name": "stdout",
     "output_type": "stream",
     "text": [
      "khá\n"
     ]
    }
   ],
   "source": [
    "#W3A15\n",
    "#[Xếp loại học lực]\n",
    "#Nhập vào điểm trung bình của một học sinh và in ra học lực của học sinh đó. \n",
    "#Xếp loại học lực theo quy tắc: \n",
    "#- >= 8.0: Giỏi\n",
    "#- >= 6.5: Khá \n",
    "#- >= 5.0: Trung bình \n",
    "#- < 5.0: Yếu\n",
    "\n",
    "diem = float(input(\"nhập điểm trung bình của 1 học sinh\"))\n",
    "if diem >= 0:\n",
    "    if 8.0 <= diem <= 10:\n",
    "       print(\"giỏi\")\n",
    "    elif 6.5 <= diem:\n",
    "       print(\"khá\")\n",
    "    elif 5.0 <= diem:\n",
    "       print(\"trung bình\")\n",
    "    else:\n",
    "       print(\"yếu\")\n",
    "else:\n",
    "    print(\"Error\")"
   ]
  },
  {
   "cell_type": "code",
   "execution_count": 34,
   "id": "dbf7eb41-3242-4a53-9473-72f8d549049a",
   "metadata": {},
   "outputs": [
    {
     "name": "stdin",
     "output_type": "stream",
     "text": [
      "nhập 1 số 3.4\n"
     ]
    },
    {
     "name": "stdout",
     "output_type": "stream",
     "text": [
      "làm tròn xuống : 3\n",
      "làm tròn lên 4\n",
      "số nguyên gần nhất : 3\n"
     ]
    }
   ],
   "source": [
    "#W3A16\n",
    "#[Rounding] \n",
    "#Nhập vào một số thực: in ra kết quả làm tròn lên, tròn xuống, làm tròn tới số nguyên gần nhất (không được sử dụng hàm sẵn có của python).\n",
    "#Các kết quả cách nhau một dấu cách\n",
    "\n",
    "a = float(input(\"nhập 1 số\"))\n",
    "#làm tròn xuống\n",
    "if a >= 0:\n",
    "    print(\"làm tròn xuống :\",int(a))\n",
    "else:\n",
    "    down = int(a) if a == int(a) else int(a) - 1\n",
    "    print(down)\n",
    "#làm tròn lên\n",
    "if a >= 0:\n",
    "    up = int(a) if a == int(a) else int(a) + 1\n",
    "    print(\"làm tròn lên\",up)\n",
    "else:\n",
    "    print(\"làm tròn lên:\",int(a))\n",
    "#làm tròn tới số nguyên gần nhất\n",
    "b = a - int(a)\n",
    "if b >= 0.5:\n",
    "    print(\"số nguyên gần nhất:\",int(a) + 1)\n",
    "elif b <= -0.5:\n",
    "    print(\"số nguyên gần nhất:\",int(a) - 1)\n",
    "else:\n",
    "    print(\"số nguyên gần nhất :\",int(a))\n",
    "    \n",
    "    \n",
    "    \n",
    "    \n",
    "    "
   ]
  },
  {
   "cell_type": "code",
   "execution_count": null,
   "id": "f1db2d54-0231-4d85-b714-bed3f57ef770",
   "metadata": {},
   "outputs": [],
   "source": [
    "#W3A17\n",
    "#Cấp số nhân \n",
    "#Cho 4 số a, b, c, d. Hãy kiểm tra xem 4 số này có thể theo thứ tự tạo thành 1 cấp số nhân với công bội nguyên theo đúng thứ tự a, b, c, d hay không? \n",
    "#Gợi ý : Tìm công bội (b / a) nếu b chia hết cho a, sau đó lấy b nhân công bội và so sánh vs c, c nhân công bội và so sánh vs d.\n",
    "\n",
    "a,b,c,d = map(float,input().split(' '))\n",
    "if a !=0 and b !=0 and c != 0 and d != 0:\n",
    "    q = b/a\n",
    "    if (b*q == c) and ( c * q == d) and (if (b / a == c / b == d / c)):\n",
    "        print(\"cấp số nhân với 4 số theo đúng thứ tự\",a,b,c,d)\n",
    "    else:\n",
    "        print(\"không là cấp số nhân\")\n",
    "else:\n",
    "    print(\"Error\")"
   ]
  }
 ],
 "metadata": {
  "kernelspec": {
   "display_name": "Python [conda env:base] *",
   "language": "python",
   "name": "conda-base-py"
  },
  "language_info": {
   "codemirror_mode": {
    "name": "ipython",
    "version": 3
   },
   "file_extension": ".py",
   "mimetype": "text/x-python",
   "name": "python",
   "nbconvert_exporter": "python",
   "pygments_lexer": "ipython3",
   "version": "3.13.5"
  }
 },
 "nbformat": 4,
 "nbformat_minor": 5
}
