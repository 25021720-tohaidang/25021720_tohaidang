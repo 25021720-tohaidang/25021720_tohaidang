{
 "cells": [
  {
   "cell_type": "code",
   "execution_count": null,
   "id": "f3f85f91-b515-4015-8eae-82078e873254",
   "metadata": {},
   "outputs": [],
   "source": [
    "#W1A1\n",
    "'''int: so nguye\n",
    "float: so thuc\n",
    "bool: logic (True-Fale)\n",
    "str: string(chuoi, xau...Nguyen Van A,...)\n",
    "int a;\n",
    "'''\n",
    "\n",
    "\n",
    "\n",
    "\n",
    "\n",
    "#comment link here\n",
    "\n",
    "a = 7\n",
    "b = 5\n",
    "c = a - b\n",
    "print(type(a), c, sep = '=====',end = '\\t')#kiểu du lieu cua a la gi\n",
    "print(a)\n",
    "\n",
    "#sep mac dinh la dau cach\n",
    "#end mac dinh la enter(xuong dong)"
   ]
  },
  {
   "cell_type": "code",
   "execution_count": 2,
   "id": "d9971539-5c8e-413a-94c3-760477472535",
   "metadata": {},
   "outputs": [
    {
     "name": "stdout",
     "output_type": "stream",
     "text": [
      "Thành phố Ha Noi -năm 2025\n",
      "<class 'str'>\n"
     ]
    }
   ],
   "source": [
    "#W1A2\n",
    "#python ko khai báo kiểu dữ liệu cho biến,mà tự động chọn kiểu phù hợp\n",
    "#chuỗi trong cặp nháy đơn/kép,chuỗi gồm nhiều kí tự liên tiếp,chỉ 1 kí tự\n",
    "city = \"Ha Noi\"\n",
    "year = 2025\n",
    "print ('Thành phố', city,'-năm',year)\n",
    "print(type(city))"
   ]
  },
  {
   "cell_type": "code",
   "execution_count": 4,
   "id": "47ff032d-0c68-4380-816d-6582c974371e",
   "metadata": {},
   "outputs": [
    {
     "name": "stdout",
     "output_type": "stream",
     "text": [
      "1\n",
      "3\n",
      "6\n",
      "10\n"
     ]
    }
   ],
   "source": [
    "#W1A3\n",
    "i = 1,2,3,4\n",
    "n = 4\n",
    "t = 0\n",
    "for i in range(1,n+1):\n",
    "    t+=i #t=t+\n",
    "    print(t)"
   ]
  },
  {
   "cell_type": "code",
   "execution_count": 5,
   "id": "f4b618c2-242e-4abb-97fb-cc3b277050d9",
   "metadata": {},
   "outputs": [
    {
     "name": "stdout",
     "output_type": "stream",
     "text": [
      "1 là số lẻ\n",
      "2 là số chẵn\n",
      "3 là số lẻ\n",
      "4 là số chẵn\n"
     ]
    }
   ],
   "source": [
    "#W1A4\n",
    "\n",
    "numbers = [1,2,3,4] #khai báo danh sách gồm 4 số nguyên\n",
    "for x in numbers: #vòng lặp for lặp qua từng phần tử trong danh sách numbers.Ở mỗi vòng,biến x nhận giá trị một phần tử(theo thứ tự 1,rồi 2,rồi 3,rồi 4)\n",
    "    if x%2==0:# nếu x chia 2 lấy dư = 0\n",
    "        print(x,\"là số chẵn\")\n",
    "    else:\n",
    "        print(x,\"là số lẻ\")\n"
   ]
  },
  {
   "cell_type": "code",
   "execution_count": 6,
   "id": "eea61343-f19d-447b-ae56-ea3b4ce97a55",
   "metadata": {},
   "outputs": [
    {
     "name": "stdout",
     "output_type": "stream",
     "text": [
      "số phần tử trong danh sách là: 4\n"
     ]
    }
   ],
   "source": [
    "#W1A5\n",
    "\n",
    "animals = [\"cat\",\"dog\",\"cat\",\"bird\"]#khai báo danh sách cso 4 phần tử\n",
    "count = 0#biến count dùng để dếm phần tử\n",
    "for a in animals:\n",
    "    count +=1#mỗi lần lặp,biến count sẽ tăng thêm 1\n",
    "print(\"số phần tử trong danh sách là:\",count)\n"
   ]
  },
  {
   "cell_type": "code",
   "execution_count": 7,
   "id": "c2dc7459-93cc-463b-801f-625ee1d7c6a9",
   "metadata": {},
   "outputs": [
    {
     "ename": "SyntaxError",
     "evalue": "unmatched ')' (1937695182.py, line 4)",
     "output_type": "error",
     "traceback": [
      "\u001b[1;36m  Cell \u001b[1;32mIn[7], line 4\u001b[1;36m\u001b[0m\n\u001b[1;33m    1) Sentiment anylysis\u001b[0m\n\u001b[1;37m     ^\u001b[0m\n\u001b[1;31mSyntaxError\u001b[0m\u001b[1;31m:\u001b[0m unmatched ')'\n"
     ]
    }
   ],
   "source": [
    "#W1A6\n",
    "#mục đích :trình bày cho người dùng ba lựa chọn và chờ người dùng nhập một lựa chọn để chương trinhg thực hiện hành động tương ứng\n",
    "=== AI Prediction System ===\n",
    "1) Sentiment anylysis\n",
    "2) Weather forecast\n",
    "3) Exit\n",
    "Please choose an option:\n",
    "\n"
   ]
  },
  {
   "cell_type": "code",
   "execution_count": 10,
   "id": "9e07a7a5-236f-40a2-9e85-72a629f78eb2",
   "metadata": {},
   "outputs": [
    {
     "name": "stdin",
     "output_type": "stream",
     "text": [
      "Nhập số 4\n"
     ]
    },
    {
     "name": "stdout",
     "output_type": "stream",
     "text": [
      "số chẵn\n"
     ]
    }
   ],
   "source": [
    "#W1A7\n",
    "\n",
    "num = float(input(\"Nhập số\"))\n",
    "if num % 2==0:\n",
    "    print(\"số chẵn\")\n",
    "else:\n",
    "    print(\"số lẻ\")"
   ]
  },
  {
   "cell_type": "code",
   "execution_count": 11,
   "id": "377394d5-86e6-4edc-8c33-86e271635c9f",
   "metadata": {},
   "outputs": [
    {
     "name": "stdout",
     "output_type": "stream",
     "text": [
      "AI đang học lần 1\n",
      "Huấn luyện xong!\n",
      "AI đang học lần 2\n",
      "Huấn luyện xong!\n",
      "AI đang học lần 3\n",
      "Huấn luyện xong!\n"
     ]
    }
   ],
   "source": [
    "#W1A8\n",
    "\n",
    "for i in range(3):\n",
    "    print(\"AI đang học lần\",i+1)\n",
    "    print(\"Huấn luyện xong!\")"
   ]
  },
  {
   "cell_type": "code",
   "execution_count": 12,
   "id": "bb3d3268-5d45-4630-986c-f2a69c03135a",
   "metadata": {},
   "outputs": [
    {
     "name": "stdout",
     "output_type": "stream",
     "text": [
      "Dự đoán con vật cat\n",
      "Dự đoán con vật dog\n",
      "Dự đoán con vật fish\n"
     ]
    }
   ],
   "source": [
    "#W1A9\n",
    "\n",
    "for x in[\"cat\",\"dog\",\"fish\"]:\n",
    "    print(\"Dự đoán con vật\",x)#đoạn code in ra 3 dòng"
   ]
  },
  {
   "cell_type": "code",
   "execution_count": 14,
   "id": "221183b3-e0c0-4c4c-ae74-bd288da4f720",
   "metadata": {},
   "outputs": [
    {
     "name": "stdout",
     "output_type": "stream",
     "text": [
      "=== AI Prediction System ===\n",
      "1 Sentiment anylysis\n",
      "2 Weather forecast\n",
      "3 Exit\n",
      "Please choose the option\n"
     ]
    }
   ],
   "source": [
    "#W1A10\n",
    "\n",
    "#Simple menu\n",
    "print(\"=== AI Prediction System ===\")\n",
    "print(\"1 Sentiment anylysis\")\n",
    "print(\"2 Weather forecast\")\n",
    "print(\"3 Exit\")\n",
    "print(\"Please choose the option\")"
   ]
  },
  {
   "cell_type": "code",
   "execution_count": null,
   "id": "24485ca2-353b-4e1a-8666-15efa88f75a0",
   "metadata": {},
   "outputs": [],
   "source": []
  }
 ],
 "metadata": {
  "kernelspec": {
   "display_name": "Python [conda env:base] *",
   "language": "python",
   "name": "conda-base-py"
  },
  "language_info": {
   "codemirror_mode": {
    "name": "ipython",
    "version": 3
   },
   "file_extension": ".py",
   "mimetype": "text/x-python",
   "name": "python",
   "nbconvert_exporter": "python",
   "pygments_lexer": "ipython3",
   "version": "3.13.5"
  }
 },
 "nbformat": 4,
 "nbformat_minor": 5
}
