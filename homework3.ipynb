{
 "cells": [
  {
   "cell_type": "code",
   "execution_count": 1,
   "id": "094fc6cb-905e-4ab7-8b3d-93fb748505ab",
   "metadata": {},
   "outputs": [
    {
     "name": "stdout",
     "output_type": "stream",
     "text": [
      "1\n",
      "3\n",
      "5\n",
      "7\n",
      "9\n",
      "11\n",
      "13\n",
      "15\n",
      "17\n",
      "19\n",
      "21\n",
      "23\n",
      "25\n",
      "27\n",
      "29\n",
      "31\n",
      "33\n",
      "35\n",
      "37\n",
      "39\n",
      "41\n",
      "43\n",
      "45\n",
      "47\n",
      "49\n",
      "51\n",
      "53\n",
      "55\n",
      "57\n",
      "59\n",
      "61\n",
      "63\n",
      "65\n",
      "67\n",
      "69\n",
      "71\n",
      "73\n",
      "75\n",
      "77\n",
      "79\n",
      "81\n",
      "83\n",
      "85\n",
      "87\n",
      "89\n",
      "91\n",
      "93\n",
      "95\n",
      "97\n",
      "99\n"
     ]
    }
   ],
   "source": [
    "#Bài 1: In các số dương lẻ bé hơn 100\n",
    "for i in range(1,100):\n",
    "    if i % 2 != 0:\n",
    "        print(i)"
   ]
  },
  {
   "cell_type": "code",
   "execution_count": 2,
   "id": "96c2dfcd-2ccd-42cf-b7fa-e27a00f3d75d",
   "metadata": {},
   "outputs": [
    {
     "name": "stdout",
     "output_type": "stream",
     "text": [
      "6\n",
      "12\n",
      "18\n",
      "24\n",
      "30\n",
      "36\n",
      "42\n",
      "48\n",
      "54\n",
      "60\n",
      "66\n",
      "72\n",
      "78\n",
      "84\n",
      "90\n",
      "96\n"
     ]
    }
   ],
   "source": [
    "#Bài 2: In các số dương chẵn chia hết cho 3 bé hơn 100\n",
    "for i in range(1,100):\n",
    "    if i % 6 == 0:\n",
    "        print(i)"
   ]
  },
  {
   "cell_type": "code",
   "execution_count": 7,
   "id": "79a3f562-9efe-45d6-8281-a73d5b9e26ad",
   "metadata": {},
   "outputs": [
    {
     "name": "stdin",
     "output_type": "stream",
     "text": [
      "nhập số nguyên dương a 5\n"
     ]
    },
    {
     "name": "stdout",
     "output_type": "stream",
     "text": [
      "5  x 1 = 5\n",
      "5  x 2 = 10\n",
      "5  x 3 = 15\n",
      "5  x 4 = 20\n",
      "5  x 5 = 25\n",
      "5  x 6 = 30\n",
      "5  x 7 = 35\n",
      "5  x 8 = 40\n",
      "5  x 9 = 45\n",
      "5  x 10 = 50\n"
     ]
    }
   ],
   "source": [
    "#Bài 3: Nhập vào số nguyên dương a, in ra bảng cửu chương của a\n",
    "a = int(input(\"nhập số nguyên dương a\"))\n",
    "for i in range(1,11):\n",
    "    print( a,\" x {0} = {1}\".format(i, a*i))\n",
    "    "
   ]
  },
  {
   "cell_type": "code",
   "execution_count": 11,
   "id": "19ef1cb0-606f-4c2f-960d-3c912f71fe3a",
   "metadata": {},
   "outputs": [
    {
     "name": "stdin",
     "output_type": "stream",
     "text": [
      "Nhập chiều cao h:  6\n"
     ]
    },
    {
     "name": "stdout",
     "output_type": "stream",
     "text": [
      "     *\n",
      "    * *\n",
      "   *   *\n",
      "  *     *\n",
      " *       *\n",
      "***********\n"
     ]
    }
   ],
   "source": [
    "#Bài 4: Viết chương trình in ra hình tam giác cân có độ cao h được nhập từ bàn phím\n",
    "h = int(input(\"Nhập chiều cao h: \"))\n",
    "\n",
    "for i in range(1, h +1):\n",
    "    #so khoang trang ben trai \n",
    "    space = h - i\n",
    "    if i == 1:\n",
    "        #dinh tam giac\n",
    "        print(\" \" * space +\"*\")\n",
    "    elif i == h:\n",
    "        #day tam giac\n",
    "        print(\"*\" * (2 * h -1))\n",
    "    else:\n",
    "        print(\" \" * space + \"*\" + \" \" * (2 * i - 3) + \"*\")\n"
   ]
  },
  {
   "cell_type": "code",
   "execution_count": 14,
   "id": "9b7f2879-8f1d-4463-b050-23a96cfc9305",
   "metadata": {},
   "outputs": [
    {
     "name": "stdin",
     "output_type": "stream",
     "text": [
      "nhap so nguyen duong n 10\n"
     ]
    },
    {
     "name": "stdout",
     "output_type": "stream",
     "text": [
      "55\n"
     ]
    }
   ],
   "source": [
    "#Bài 5: Nhập vào số nguyên dương n. Tính S = 1 + 2 + 3 + 4 + … + n\n",
    "n = int(input(\"nhap so nguyen duong n\"))\n",
    "sum = 0\n",
    "for i in range(1, n+1):\n",
    "    sum += i\n",
    "print(sum)"
   ]
  },
  {
   "cell_type": "code",
   "execution_count": 15,
   "id": "f5c2653b-c941-4e8a-be48-c21d981aca08",
   "metadata": {},
   "outputs": [
    {
     "name": "stdin",
     "output_type": "stream",
     "text": [
      "nhap so nguyen duong a 10\n"
     ]
    },
    {
     "name": "stdout",
     "output_type": "stream",
     "text": [
      "1\n",
      "2\n",
      "5\n",
      "10\n"
     ]
    }
   ],
   "source": [
    "#Bài 6: Nhập vào số nguyên dương a, in ra tất cả các ước dương của a\n",
    "a = int(input(\"nhap so nguyen duong a\"))\n",
    "if a <= 0:\n",
    "    print(\"error\")\n",
    "else:\n",
    "    for i in range(1, a+1):\n",
    "        if a % i == 0:\n",
    "            print(i)"
   ]
  },
  {
   "cell_type": "code",
   "execution_count": 18,
   "id": "c5bbcf59-d4bf-4b68-8178-df540f0de8a8",
   "metadata": {},
   "outputs": [
    {
     "name": "stdin",
     "output_type": "stream",
     "text": [
      "nhap so nguyen duong a 10\n"
     ]
    },
    {
     "name": "stdout",
     "output_type": "stream",
     "text": [
      "4\n"
     ]
    }
   ],
   "source": [
    "#Bài 7: Nhập vào số nguyên dương a, đếm số ước dương của a\n",
    "a = int(input(\"nhap so nguyen duong a\"))\n",
    "if a <= 0:\n",
    "    print(\"error\")\n",
    "else:\n",
    "    count = 0\n",
    "    for i in range(1, a+1):\n",
    "        if (a % i == 0):\n",
    "            count += 1\n",
    "print(count)"
   ]
  },
  {
   "cell_type": "code",
   "execution_count": 22,
   "id": "6b2f5498-9461-4d0e-9bf3-cdffc1f96e10",
   "metadata": {},
   "outputs": [
    {
     "name": "stdin",
     "output_type": "stream",
     "text": [
      "nhap so nguyen duong 10 20\n"
     ]
    },
    {
     "name": "stdout",
     "output_type": "stream",
     "text": [
      "các ước chung của 10 và 20 là 1\n",
      "các ước chung của 10 và 20 là 2\n",
      "các ước chung của 10 và 20 là 5\n",
      "các ước chung của 10 và 20 là 10\n"
     ]
    }
   ],
   "source": [
    "#Bài 8: Nhập vào số nguyên dương a và b, in toàn bộ ước dương chung của a và b\n",
    "a, b = map(int,input(\"nhap so nguyen duong\").split(' '))\n",
    "for i in range(1, min(a, b) + 1):\n",
    "    if (a % i == 0) and ( b % i == 0 ):\n",
    "        print(\"các ước chung của\",a,\"và\",b,\"là\",i)\n",
    "\n",
    "\n",
    "\n"
   ]
  },
  {
   "cell_type": "code",
   "execution_count": 23,
   "id": "b307b063-cf62-476c-ae41-a2861c1fc3ef",
   "metadata": {},
   "outputs": [
    {
     "name": "stdin",
     "output_type": "stream",
     "text": [
      "nhap so nguyen duong 25\n"
     ]
    },
    {
     "name": "stdout",
     "output_type": "stream",
     "text": [
      "25 la so chinh phuong\n"
     ]
    }
   ],
   "source": [
    "#Bài 9: Nhập vào số nguyên dương a, kiểm tra xem a có phải là số chính phương hay không? \n",
    "#Số chính phương là số có căn bậc hai là một số nguyên VD: 1, 4, 9, 16, 25…\n",
    "a = int(input(\"nhap so nguyen duong\"))\n",
    "for i in range(1, a+1):\n",
    "    if i * i == a:\n",
    "        print(a, \"la so chinh phuong\")\n"
   ]
  },
  {
   "cell_type": "code",
   "execution_count": 25,
   "id": "af9bb1e5-7235-4988-8ed7-e2f490e2f1a8",
   "metadata": {},
   "outputs": [
    {
     "name": "stdin",
     "output_type": "stream",
     "text": [
      "nhap so nguyen duong  28\n"
     ]
    },
    {
     "name": "stdout",
     "output_type": "stream",
     "text": [
      "so hoan hao\n"
     ]
    }
   ],
   "source": [
    "#Bài 10: Nhập vào số nguyên dương a, kiểm tra xem a có phải là số hoàn hảo hay không. \n",
    "#Số hoàn hảo là số có tổng các ước (ước nhỏ hơn nó) bằng chính nó, VD: số 6, 28…\n",
    "\n",
    "a = int(input(\"nhap so nguyen duong \"))\n",
    "sum = 0\n",
    "for i in range(1, a ):\n",
    "    if ( a % i == 0):\n",
    "        sum += i\n",
    "        if sum == a:\n",
    "            print(\"so hoan hao\")\n",
    "        "
   ]
  },
  {
   "cell_type": "code",
   "execution_count": 26,
   "id": "c3fc9e9d-666b-4d10-95a4-7665664cbfee",
   "metadata": {},
   "outputs": [
    {
     "name": "stdin",
     "output_type": "stream",
     "text": [
      "nhap so nguyen duong a -5\n"
     ]
    },
    {
     "name": "stdout",
     "output_type": "stream",
     "text": [
      "vui long nhap so nguyen duong\n"
     ]
    },
    {
     "name": "stdin",
     "output_type": "stream",
     "text": [
      "nhap so nguyen duong -6\n"
     ]
    },
    {
     "name": "stdout",
     "output_type": "stream",
     "text": [
      "vui long nhap so nguyen duong\n"
     ]
    },
    {
     "name": "stdin",
     "output_type": "stream",
     "text": [
      "nhap so nguyen duong 5\n"
     ]
    },
    {
     "name": "stdout",
     "output_type": "stream",
     "text": [
      "bạn nhập đúng quy tắc\n"
     ]
    }
   ],
   "source": [
    "#Bài 11: Nhập vào số nguyên a, nếu nhập số âm thì yêu cầu nhập lại cho đến khi người dùng nhập đúng số dương. \n",
    "#Nếu người dùng nhập đúng số dương thì in ra “Bạn nhập đúng quy tắc” và dừng chương trình\n",
    "a = int(input(\"nhap so nguyen duong a\"))\n",
    "while a < 0:\n",
    "    print(\"vui long nhap so nguyen duong\")\n",
    "    a = int(input(\"nhap so nguyen duong\"))\n",
    "print(\"bạn nhập đúng quy tắc\")\n",
    "        \n"
   ]
  },
  {
   "cell_type": "code",
   "execution_count": 28,
   "id": "1e627d3f-94f7-4f83-8972-5b3b9aef9723",
   "metadata": {},
   "outputs": [
    {
     "name": "stdin",
     "output_type": "stream",
     "text": [
      "nhap so nguyen duong 10\n"
     ]
    },
    {
     "name": "stdout",
     "output_type": "stream",
     "text": [
      "k = 3\n",
      "S(k) = 6\n"
     ]
    }
   ],
   "source": [
    "#Bài 12: Nhập số nguyên dương n, Cho S(k) = 1 + 2 + 3 + … + k. Tìm k sao cho S(k) lớn nhất nhưng nhỏ hơn n\n",
    "n = int(input(\"nhap so nguyen duong\"))\n",
    "k = 0\n",
    "S = 0\n",
    "while True:\n",
    "    if S + (k +1) >= n:\n",
    "        break\n",
    "    k += 1\n",
    "    S += k\n",
    "print(\"k =\",k)\n",
    "print(\"S(k) =\",S)"
   ]
  },
  {
   "cell_type": "code",
   "execution_count": 32,
   "id": "b1d0a302-d6c2-4abf-bcb2-9c6393d1d912",
   "metadata": {},
   "outputs": [
    {
     "name": "stdin",
     "output_type": "stream",
     "text": [
      "nhap so nguyen duong 5\n"
     ]
    },
    {
     "name": "stdout",
     "output_type": "stream",
     "text": [
      "n = 83\n"
     ]
    }
   ],
   "source": [
    "#Bài 13: Nhập vào số nguyên dương A, tìm n nhỏ nhất sao cho 1 + 1/2 + 1/3 + 1/4 + ... + 1/n > A\n",
    "A = int(input(\"nhap so nguyen duong\"))\n",
    "n = 0\n",
    "tong = 0\n",
    "while tong <= A:\n",
    "    n += 1\n",
    "    tong += 1/n\n",
    "print(\"n =\",n)\n"
   ]
  },
  {
   "cell_type": "code",
   "execution_count": 36,
   "id": "1861d022-1c3a-4dd0-8711-22493cfa9ebc",
   "metadata": {},
   "outputs": [
    {
     "name": "stdout",
     "output_type": "stream",
     "text": [
      "nhập các số nguyên(nhập -1 để dừng\n"
     ]
    },
    {
     "name": "stdin",
     "output_type": "stream",
     "text": [
      " 5\n",
      " 4\n",
      " 6\n",
      " 2\n",
      " -1\n"
     ]
    },
    {
     "name": "stdout",
     "output_type": "stream",
     "text": [
      "so lon nhat 6\n",
      "so nho nhat 2\n"
     ]
    }
   ],
   "source": [
    "# Bài 14: Nhập vào một dãy số nguyên, dừng nhập khi người dùng nhập -1. Sau khi nhập xong, in số lớn nhất, số nhỏ nhất trong những số vừa nhập. \n",
    "#KHÔNG ĐƯỢC dùng mảng\n",
    "print(\"nhập các số nguyên(nhập -1 để dừng)\")\n",
    "max = None\n",
    "min = None\n",
    "while True:\n",
    "    x = int(input())\n",
    "    if x == -1:\n",
    "        break\n",
    "    #tao gtri ban dau\n",
    "    if max is None or min is None:\n",
    "        max = min = x\n",
    "    else:\n",
    "        if x > max:\n",
    "            max = x\n",
    "        if x < min:\n",
    "            min = x\n",
    "if max is None :\n",
    "    print(\"ko co so nao duoc nhap\")\n",
    "else:\n",
    "    print(\"so lon nhat\", max)\n",
    "    print(\"so nho nhat\", min)"
   ]
  },
  {
   "cell_type": "code",
   "execution_count": 2,
   "id": "c9a1bfaa-f892-406e-9959-bfc102be1147",
   "metadata": {},
   "outputs": [
    {
     "name": "stdin",
     "output_type": "stream",
     "text": [
      "nhap so nguyen duong  1456\n"
     ]
    },
    {
     "name": "stdout",
     "output_type": "stream",
     "text": [
      "có 4 chữ số\n"
     ]
    }
   ],
   "source": [
    "# Bài 15: Nhập vào số nguyên dương n, đếm xem n có bao nhiêu chữ số. Làm bằng nhiều cách nhất có thể, ko dùng mảng\n",
    "n = int(input(\"nhap so nguyen duong \"))\n",
    "count = 0\n",
    "\n",
    "while n > 0:\n",
    "    count += 1\n",
    "    n //= 10 \n",
    "     \n",
    "print(\"có\",count,\"chữ số\")"
   ]
  },
  {
   "cell_type": "code",
   "execution_count": 5,
   "id": "4b4e08d0-1701-4aa6-8a41-dc9fb8b23d77",
   "metadata": {},
   "outputs": [
    {
     "name": "stdin",
     "output_type": "stream",
     "text": [
      "nhap so nguyen duong 123456789\n"
     ]
    },
    {
     "name": "stdout",
     "output_type": "stream",
     "text": [
      "có 4 chữ số chẵn 5 chữ số lẻ\n"
     ]
    }
   ],
   "source": [
    "#Bài 16: Nhập vào số nguyên dương n, đếm xem n có bao nhiêu chữ số chẵn, bao nhiêu chữ số lẻ\n",
    "n = int(input(\"nhap so nguyen duong\"))\n",
    "count_chan = 0\n",
    "count_le = 0\n",
    "while n > 0:\n",
    "    a = n % 10\n",
    "    if a % 2 == 0:\n",
    "        count_chan += 1\n",
    "    else:\n",
    "        count_le += 1\n",
    "    n //= 10\n",
    "print(\"có\",count_chan,\"chữ số chẵn\",count_le,\"chữ số lẻ\")"
   ]
  },
  {
   "cell_type": "code",
   "execution_count": 6,
   "id": "70b14a22-812f-4db1-9f77-42fc656bc581",
   "metadata": {},
   "outputs": [
    {
     "name": "stdin",
     "output_type": "stream",
     "text": [
      "nhap so nguyen duong 123456\n"
     ]
    },
    {
     "name": "stdout",
     "output_type": "stream",
     "text": [
      "tổng các chữ số 21\n"
     ]
    }
   ],
   "source": [
    "#Bài 17: Nhập vào số nguyên dương n, tính tổng các chữ số của n\n",
    "n = int(input(\"nhap so nguyen duong\"))\n",
    "sum = 0\n",
    "while n > 0:\n",
    "    a = n % 10\n",
    "    sum += a\n",
    "    n //= 10\n",
    "print(\"tổng các chữ số\",sum)\n",
    "    \n"
   ]
  },
  {
   "cell_type": "code",
   "execution_count": 8,
   "id": "562dd128-a7bf-49e7-99dc-a38da4e3a9ef",
   "metadata": {},
   "outputs": [
    {
     "name": "stdin",
     "output_type": "stream",
     "text": [
      "nhap so nguyen duong 81\n"
     ]
    },
    {
     "name": "stdout",
     "output_type": "stream",
     "text": [
      "true\n"
     ]
    }
   ],
   "source": [
    "#Bài 18: Nhập vào một số nguyên dương n, kiểm tra xem n có phải là số dạng 3^k hay không\n",
    "n = int(input(\"nhap so nguyen duong\"))\n",
    "while n % 3 == 0:\n",
    "    n //= 3\n",
    "if n == 1:\n",
    "    print(\"true\")\n",
    "else:\n",
    "    print(\"false\")\n",
    "    "
   ]
  },
  {
   "cell_type": "code",
   "execution_count": 9,
   "id": "7aa6da0e-55ee-4b52-8c54-ee1e4a921fdd",
   "metadata": {},
   "outputs": [
    {
     "name": "stdin",
     "output_type": "stream",
     "text": [
      "nhap so nguyen duong a 15\n"
     ]
    },
    {
     "name": "stdout",
     "output_type": "stream",
     "text": [
      "số lớn nhất k quá  15 là 13\n"
     ]
    }
   ],
   "source": [
    "#Bài 19: Dãy số fibonacci là dãy số được định nghĩa như sau: 1, 1, 2, 3, 5, 8, 13,... với số kế tiếp sẽ bằng tổng hai số trước đó. \n",
    "#Nhập vào số nguyên dương A, hãy tìm số trong dãy số fibonacci lớn nhất nhưng không vượt quá A\n",
    "A = int(input(\"nhap so nguyen duong a\"))\n",
    "a1, a2 = 1, 1\n",
    "while a2 <= A:\n",
    "    a_tiep = a1 + a2\n",
    "    if a_tiep > A:\n",
    "        break\n",
    "    a1 = a2 \n",
    "    a2 = a_tiep\n",
    "print(\"số lớn nhất k quá \",A,\"là\",a2)"
   ]
  },
  {
   "cell_type": "code",
   "execution_count": null,
   "id": "29cadc36-e159-4e8c-880b-1c18140d8c81",
   "metadata": {},
   "outputs": [],
   "source": [
    "#Bài 20: Nhập vào số nguyên dương n, đếm xem n có bao nhiêu chữ số là số nguyên tố.\n",
    "n = int(input(\"nhap so nguyen duong\"))\n",
    "count = 0\n",
    "while n > 0:\n",
    "    a = n % 10\n",
    "    if a == 2:\n",
    "        count += 1"
   ]
  }
 ],
 "metadata": {
  "kernelspec": {
   "display_name": "Python [conda env:base] *",
   "language": "python",
   "name": "conda-base-py"
  },
  "language_info": {
   "codemirror_mode": {
    "name": "ipython",
    "version": 3
   },
   "file_extension": ".py",
   "mimetype": "text/x-python",
   "name": "python",
   "nbconvert_exporter": "python",
   "pygments_lexer": "ipython3",
   "version": "3.13.5"
  }
 },
 "nbformat": 4,
 "nbformat_minor": 5
}
