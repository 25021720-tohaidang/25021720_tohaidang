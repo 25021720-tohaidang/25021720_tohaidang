{
 "cells": [
  {
   "cell_type": "code",
   "execution_count": 1,
   "id": "ec4d7b33-6cfa-42fd-9c92-ce87d6af2d8e",
   "metadata": {},
   "outputs": [
    {
     "name": "stdin",
     "output_type": "stream",
     "text": [
      "nhập chiều dài của hình chữ nhật: 5\n",
      "nhập chiều rộng của hình chữ nhật: 3\n"
     ]
    },
    {
     "name": "stdout",
     "output_type": "stream",
     "text": [
      "chu vi là: 16.0\n",
      "diện tích là: 15.0\n"
     ]
    }
   ],
   "source": [
    "#bài 1:nhập vào 2 cạnh của 1 hình chữ nhật.in ra màn hình diện tích và chu vi của nó\n",
    "a = float(input(\"nhập độ dài cạnh 1 của hình chữ nhật:\"))\n",
    "b = float(input(\"nhập độ dài cạnh 2 của hình chữ nhật:\"))\n",
    "CV = (a+b) * 2\n",
    "S = a * b\n",
    "print(\"chu vi là:\",CV)\n",
    "print(\"diện tích là:\",S)"
   ]
  },
  {
   "cell_type": "code",
   "execution_count": 1,
   "id": "ee30dc03-8514-462e-a692-f12df1ddf77e",
   "metadata": {},
   "outputs": [
    {
     "name": "stdin",
     "output_type": "stream",
     "text": [
      "nhập vào bán kính hình tròn: 5\n"
     ]
    },
    {
     "name": "stdout",
     "output_type": "stream",
     "text": [
      "chu vi: 31.41592653589793\n",
      "diện tích 78.53981633974483\n"
     ]
    }
   ],
   "source": [
    "# Bài 2: Nhập vào bán kính của hình tròn. In ra màn hình diện tích và chu vi của nó\n",
    "import math \n",
    "r = float(input(\"nhập vào bán kính hình tròn:\"))\n",
    "print(\"chu vi:\",2 * math.pi * r)\n",
    "print(\"diện tích\", math.pi * r ** 2)\n"
   ]
  },
  {
   "cell_type": "code",
   "execution_count": 6,
   "id": "e41b3106-81b4-4cef-827d-00ff110f908d",
   "metadata": {},
   "outputs": [
    {
     "name": "stdin",
     "output_type": "stream",
     "text": [
      "Nhập độ dài cạnh thứ nhất của tam giác: 12\n",
      "Nhập độ dài cạnh thứ hai của tam giác: 14\n",
      "Nhập độ dài cạnh thứ ba của tam giác: 16\n"
     ]
    },
    {
     "name": "stdout",
     "output_type": "stream",
     "text": [
      "đây là tam giác thường\n",
      "chu vi tam giác : 42.0\n",
      "diện tích tam giác : 81.33265027035576\n"
     ]
    }
   ],
   "source": [
    "#Bài 3 : Tính tam giác: Nhâp vào ba số a,b,c bất kì. Kiểmtra xem nó có thể làđộ dài ba cạnh hay không, nếu không thì in ra màn hình 'Khong la ba canh cua mot tam giac'. Ngược lại, kiểm tra xem nó là tam giác gì: Đều, Cân, Vuông, hay Tam giác thường. Tính diện tích, chu vi của tam giác và in ra mànhình.\n",
    "import math\n",
    "a = float(input(\"Nhập độ dài cạnh thứ nhất của tam giác:\"))\n",
    "b = float(input(\"Nhập độ dài cạnh thứ hai của tam giác:\"))\n",
    "c = float(input(\"Nhập độ dài cạnh thứ ba của tam giác:\"))\n",
    "if (a + b <= c) or (a +c <= b) or (b + c <= a):\n",
    "    print(\"Không là ba cạnh của tam giác\")\n",
    "else:\n",
    "    if (a == b == c):\n",
    "        print(\"đây là tam giác đều\")\n",
    "        cv = a + b + c\n",
    "        S = math.sqrt(3)*a**2/4\n",
    "        print(\"chu vi tam giác đều:\",cv)\n",
    "        print(\"diện tích tam giác đều:\",S)\n",
    "    elif (a == b != c)or( a == c != b)or(b == c != a):\n",
    "        print(\"đây là tam giác cân\")\n",
    "        cv = a + b + c\n",
    "        p = (a + b + c)/2\n",
    "        S = math.sqrt(p*(p-a)*(p-b)*(p-c))\n",
    "        print(\"chu vi tam giác cân:\",cv)\n",
    "        print(\"diện tích tam giác cân:\",S)\n",
    "    elif (a**2 + b**2 == c**2)or(a**2 + c**2 == b**2)or(b**2 + c**2 == a**2):\n",
    "        print(\"đây là tam giác vuông\")\n",
    "        cv = a + b + c\n",
    "        p = (a + b + c)/2\n",
    "        S = math.sqrt(p*(p-a)*(p-b)*(p-c))\n",
    "        print(\"chu vi tam giác vuông:\",cv)\n",
    "        print(\"diện tích tam giác vuông:\",S)\n",
    "    else:\n",
    "        print(\"đây là tam giác thường\")\n",
    "        cv = a + b + c\n",
    "        p = (a + b + c)/2\n",
    "        S = math.sqrt(p*(p-a)*(p-b)*(p-c))\n",
    "        print(\"chu vi tam giác :\",cv)\n",
    "        print(\"diện tích tam giác :\",S)\n",
    "        \n",
    "    "
   ]
  },
  {
   "cell_type": "code",
   "execution_count": 8,
   "id": "e49eca96-c37f-4469-a13b-db760acdaa9d",
   "metadata": {},
   "outputs": [
    {
     "name": "stdin",
     "output_type": "stream",
     "text": [
      "Nhập 1 số a: 2\n",
      "Nhập 1 số b: 5\n"
     ]
    },
    {
     "name": "stdout",
     "output_type": "stream",
     "text": [
      "phương trình có nghiệm là x=: -2.5\n"
     ]
    }
   ],
   "source": [
    "#Bài 4: Viết chương trình giải phương trình bậc 1 (ax + b = 0)\n",
    "a = float(input(\"Nhập 1 số a:\"))\n",
    "b = float(input(\"Nhập 1 số b:\"))\n",
    "if a == 0:\n",
    "    if b == 0:\n",
    "        print(\"phương trình vô số nghiệm\")\n",
    "    else:\n",
    "        print(\"phương trình vô nghiệm\")\n",
    "else:\n",
    "    print(\"phương trình có nghiệm là x=:\",-b/a)\n",
    "        \n",
    "                \n",
    "\n"
   ]
  },
  {
   "cell_type": "code",
   "execution_count": 10,
   "id": "8044f09f-f01c-4765-a008-ebe584bd9f4d",
   "metadata": {},
   "outputs": [
    {
     "name": "stdin",
     "output_type": "stream",
     "text": [
      "nhập số a: 1\n",
      "Nhập số b: 2\n",
      "nhấp số c: -4\n"
     ]
    },
    {
     "name": "stdout",
     "output_type": "stream",
     "text": [
      "phương trình có 2 nghiệm phân biệt x1 =  -3.23606797749979 x2 =  1.2360679774997898\n"
     ]
    }
   ],
   "source": [
    "#Bài 5: Viết chương trình giải phương trình bậc 2 (ax2 + bx + c = 0)\n",
    "import math\n",
    "a = float(input(\"nhập số a:\"))\n",
    "b = float(input(\"Nhập số b:\"))\n",
    "c = float(input(\"nhấp số c:\"))\n",
    "if a == 0:\n",
    "    print(\"đây không phải phương trình bậc 2\")\n",
    "else:\n",
    "    delta = b**2 - 4*a*c\n",
    "    if delta < 0:\n",
    "        print(\"phương trình vô nghiệm\")\n",
    "    elif delta == 0:\n",
    "        x = -b/(2*a)\n",
    "        print(\"phương trình có nghiệm kép:\",x)\n",
    "    else:\n",
    "        x1 = (-b - math.sqrt(delta))/(2*a)\n",
    "        x2 = (-b + math.sqrt(delta))/(2*a)\n",
    "        print(\"phương trình có 2 nghiệm phân biệt x1 = \",x1,\"x2 = \",x2)\n",
    "    \n",
    "    \n",
    "          \n",
    "          "
   ]
  },
  {
   "cell_type": "code",
   "execution_count": 13,
   "id": "d21e51ba-a646-413d-8bca-fdee66ee4bdf",
   "metadata": {},
   "outputs": [
    {
     "name": "stdin",
     "output_type": "stream",
     "text": [
      " 1 0 2 5\n"
     ]
    },
    {
     "name": "stdout",
     "output_type": "stream",
     "text": [
      "giá trị lớn nhất là: 5.0\n"
     ]
    }
   ],
   "source": [
    "#Bài 6: Tìm giá trị lớn nhất trong 4 số a, b, c, d (a, b, c, được nhập từ bàn phím).\n",
    "a,b,c,d = map(float,input().split(' '))\n",
    "GTLN = max(a,b,c,d)\n",
    "print(\"giá trị lớn nhất là:\",GTLN)"
   ]
  },
  {
   "cell_type": "code",
   "execution_count": 14,
   "id": "c5286e60-f346-4ab6-b488-09e9a77f5bde",
   "metadata": {},
   "outputs": [
    {
     "name": "stdin",
     "output_type": "stream",
     "text": [
      " 5 8 47 6\n"
     ]
    },
    {
     "name": "stdout",
     "output_type": "stream",
     "text": [
      "GTNN là: 5.0\n"
     ]
    }
   ],
   "source": [
    "#Bài 7: Tìm giá trị nhỏ nhất trong 4 số a, b, c, d (a, b, c, được nhập từ bàn phím)\n",
    "a,b,c,d = map(float,input().split(' '))\n",
    "GTNN = min(a,b,c,d)\n",
    "print(\"GTNN là:\",GTNN)"
   ]
  },
  {
   "cell_type": "code",
   "execution_count": 17,
   "id": "280ff2fb-9f34-4b2a-8931-9aba4eb0bd5d",
   "metadata": {},
   "outputs": [
    {
     "name": "stdin",
     "output_type": "stream",
     "text": [
      " 1 -1 2 1 1 5\n"
     ]
    },
    {
     "name": "stdout",
     "output_type": "stream",
     "text": [
      "nghiệm của hệ là: x= 2.0 y= 1.0\n"
     ]
    }
   ],
   "source": [
    "#Bài 8: Giải hệ phương trình tuyến tính:\n",
    "#       ax + by =m\n",
    "#       cx + dy =n\n",
    "\n",
    "a,b,c,d,m,n = map(float,input().split(' '))\n",
    "det = a*d - b*c\n",
    "x = (m*d - n*b)/det\n",
    "y = (a*n - c*m)/det\n",
    "print(\"nghiệm của hệ là:\",\"x=\",x,\"y=\",y)\n",
    "\n"
   ]
  },
  {
   "cell_type": "code",
   "execution_count": 22,
   "id": "dd38a769-d148-4400-9d00-0c3736e48d1a",
   "metadata": {},
   "outputs": [
    {
     "name": "stdin",
     "output_type": "stream",
     "text": [
      "Nhập thời gian 1 công việc là giây 9000\n"
     ]
    },
    {
     "name": "stdout",
     "output_type": "stream",
     "text": [
      "9000 giây= 2 giờ 30 phút 0 giây\n"
     ]
    }
   ],
   "source": [
    "'''Bài 9: Nhập vào thời gian 1 công việc nào đó là x giây. Hãy chuyển đổi và viết \n",
    "ra màn hình số thời gian trên dưới dạng bằng bao nhiêu giờ, bao nhiêu phút, bao \n",
    "nhiêu giây.\n",
    "'''\n",
    "x = int(input(\"Nhập thời gian 1 công việc là giây\"))\n",
    "a = x // 3600 \n",
    "b = (x % 3600) // 60\n",
    "c = x - (a * 3600) - (b * 60)\n",
    "print(x,\"giây=\",a, \"giờ\",b ,\"phút\",c,\"giây\")\n",
    "\n",
    "\n",
    "              \n",
    "\n"
   ]
  },
  {
   "cell_type": "code",
   "execution_count": 24,
   "id": "666ff4a2-3468-4601-b36c-ff0819700589",
   "metadata": {},
   "outputs": [
    {
     "name": "stdin",
     "output_type": "stream",
     "text": [
      "hoành độ tâm đường tròn xI: 1\n",
      "tung độ tâm đường tròn yI: 2\n",
      "nhập bán kính đường tròn: 5\n",
      "nhập hoành độ điểm A: 3\n",
      "nhập tung độ điểm A: 4\n"
     ]
    },
    {
     "name": "stdout",
     "output_type": "stream",
     "text": [
      "A nằm trong đường tròn,không thuộc đường tròn\n"
     ]
    }
   ],
   "source": [
    "#Bài 10: Nhập vào tâm và bán kính của một đường tròn. Sau đó nhập vào một\n",
    "#điểm A(x, y) bất kì và kiểm tra xem nó có thuộc đường tròn hay không?\n",
    "#giả sử tâm I\n",
    "import math\n",
    "xI = float(input(\"hoành độ tâm đường tròn xI:\"))\n",
    "yI = float(input(\"tung độ tâm đường tròn yI:\"))\n",
    "R = float(input(\"nhập bán kính đường tròn:\"))\n",
    "\n",
    "xA = float(input(\"nhập hoành độ điểm A:\"))\n",
    "yA = float(input(\"nhập tung độ điểm A:\"))\n",
    "\n",
    "d = math.sqrt((xI -xA)**2 + (yI -yA)**2)\n",
    "if d < R:\n",
    "    print(\"A nằm trong đường tròn,không thuộc đường tròn\")\n",
    "elif d > R:\n",
    "    print(\"A nằm ngoài đường tròn,không thuộc đường tròn\")\n",
    "else:\n",
    "    print(\"A thuộc đường tròn\")"
   ]
  },
  {
   "cell_type": "code",
   "execution_count": 26,
   "id": "7bfcf17b-8a69-4b4f-8856-dd3928e4f2af",
   "metadata": {},
   "outputs": [
    {
     "name": "stdin",
     "output_type": "stream",
     "text": [
      " 2 5\n"
     ]
    },
    {
     "name": "stdout",
     "output_type": "stream",
     "text": [
      "x mũ y =: 32.0\n"
     ]
    }
   ],
   "source": [
    "#Bài 11: Tính x mũ y (Với x, y là số thực).\n",
    "x,y = map(float,input().split(' '))\n",
    "a = x**y\n",
    "print(\"x mũ y =:\",a)"
   ]
  },
  {
   "cell_type": "code",
   "execution_count": null,
   "id": "e8283635-b080-471d-839d-f85594d9f0bf",
   "metadata": {},
   "outputs": [],
   "source": []
  }
 ],
 "metadata": {
  "kernelspec": {
   "display_name": "Python [conda env:base] *",
   "language": "python",
   "name": "conda-base-py"
  },
  "language_info": {
   "codemirror_mode": {
    "name": "ipython",
    "version": 3
   },
   "file_extension": ".py",
   "mimetype": "text/x-python",
   "name": "python",
   "nbconvert_exporter": "python",
   "pygments_lexer": "ipython3",
   "version": "3.13.5"
  }
 },
 "nbformat": 4,
 "nbformat_minor": 5
}
