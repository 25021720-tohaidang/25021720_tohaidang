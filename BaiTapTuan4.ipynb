{
 "cells": [
  {
   "cell_type": "code",
   "execution_count": 2,
   "id": "f72851e7-c984-4318-a181-091d439ec240",
   "metadata": {},
   "outputs": [
    {
     "name": "stdin",
     "output_type": "stream",
     "text": [
      " 10\n"
     ]
    },
    {
     "name": "stdout",
     "output_type": "stream",
     "text": [
      "0\n",
      "1\n",
      "3\n",
      "6\n",
      "10\n",
      "15\n",
      "21\n",
      "28\n",
      "36\n",
      "45\n"
     ]
    }
   ],
   "source": [
    "# bài 1\n",
    "# ting tong so nguyen tu 1 den n\n",
    "n = int(input(\"Nhập vào 1 số nguyên dương\"))\n",
    "Sum = 0\n",
    "for i in range(n):\n",
    "    Sum += i\n",
    "    print(Sum)\n",
    "    "
   ]
  },
  {
   "cell_type": "code",
   "execution_count": 14,
   "id": "3bcf098f-799c-424b-beb9-6fb77ada615d",
   "metadata": {},
   "outputs": [
    {
     "name": "stdin",
     "output_type": "stream",
     "text": [
      " 9\n"
     ]
    },
    {
     "name": "stdout",
     "output_type": "stream",
     "text": [
      "9 la so nguyen to\n"
     ]
    }
   ],
   "source": [
    "#W4A2\n",
    "# [PrimeNumber]\n",
    "#VIết chương trình nhập vào một số tới khi được một số nguyên dương thì thôi.Kiểm tra số này có phải là số nguyên tố hay không\n",
    "from math import isqrt\n",
    "try:\n",
    "    check = 1\n",
    "    while(check):\n",
    "        n = int(input())\n",
    "        if (n<0):\n",
    "            print(\"vui long nhap so nguyen duong\")\n",
    "        else:\n",
    "            check = 0\n",
    "    # kiểm tra số nguyên tố\n",
    "    if n >= 2:\n",
    "        flag = True\n",
    "        for i in range(2,isqrt(n)+1):\n",
    "            if n % i == 0:\n",
    "                flag = False\n",
    "                break\n",
    "            if flag:\n",
    "                print(f'{n} la so nguyen to')\n",
    "            else:\n",
    "                print(f'{n} khong la so nguyen to')\n",
    "    else:\n",
    "        print(f'{n} khong phai la so nguyen to')\n",
    "except ValueError:\n",
    "    print(\"vui long nhap so nguyen lon hon 2\")\n",
    "        \n",
    "        \n",
    "    \n",
    "    "
   ]
  },
  {
   "cell_type": "code",
   "execution_count": 2,
   "id": "52879bb2-7dcc-4e2d-a32a-a29e08eab34d",
   "metadata": {},
   "outputs": [
    {
     "name": "stdin",
     "output_type": "stream",
     "text": [
      "Nhập só nguyên n(0 < n < 100) 5\n"
     ]
    },
    {
     "name": "stdout",
     "output_type": "stream",
     "text": [
      "5! = 120\n"
     ]
    }
   ],
   "source": [
    "# W4A3 \n",
    "# [Factorial] \n",
    "# Viết chương trình tính giai thừa của một số nguyên n cho trước (n!=1×2×…×n) với 0 < n < 100.\n",
    "\n",
    "n = int(input(\"Nhập só nguyên n(0 < n < 100)\"))\n",
    "if n <= 0 or n >= 100:\n",
    "    print(\"số n nhập không đúng\")\n",
    "else:\n",
    "    gt = 1\n",
    "    for i in range(1,n+1):\n",
    "        gt *= i\n",
    "    print(f'{n}! = {gt}')\n",
    "    \n",
    "    \n",
    "    \n",
    "        "
   ]
  },
  {
   "cell_type": "code",
   "execution_count": 12,
   "id": "4017a20c-c8a9-40f4-bc1b-e2d5185d6448",
   "metadata": {},
   "outputs": [
    {
     "name": "stdin",
     "output_type": "stream",
     "text": [
      " 0\n"
     ]
    },
    {
     "name": "stdout",
     "output_type": "stream",
     "text": [
      "1\n"
     ]
    }
   ],
   "source": [
    "#W4A4\n",
    "#.[CountingDigits] \n",
    "#Viết chương trình nhập vào một số nguyên n và in ra màn hình số chữ số (trừ dấu) của số đó. Không dùng kiểu dữ liệu string.4\n",
    "n = int(input())\n",
    "n = abs(n) # ham lay tri tuyet doi cua so nguyen\n",
    "count = 0\n",
    "if n == 0:\n",
    "    count = 1\n",
    "while n > 0:\n",
    "    count += 1\n",
    "    n = n//10\n",
    "print(count)\n"
   ]
  },
  {
   "cell_type": "code",
   "execution_count": 11,
   "id": "7906bc7d-0077-4a1e-bf71-bd6a794b4473",
   "metadata": {},
   "outputs": [
    {
     "name": "stdin",
     "output_type": "stream",
     "text": [
      " 10\n",
      " 12\n",
      " 11\n",
      " 12\n",
      " 42\n"
     ]
    },
    {
     "name": "stdout",
     "output_type": "stream",
     "text": [
      "I've found the meaning of life!\n"
     ]
    }
   ],
   "source": [
    "#W4A5\n",
    "#Hãy viết một chương trình nhận vào một số nguyên dương n và một dãy gồm n số nguyên. \n",
    "#Nếu n số nguyên đó có số 42 thì in ra màn hình dòng chữ \"I′ve found the meaning of life!\", ngược lại in ra dòng chữ \"It′s a joke!\".\n",
    "n = int(input())\n",
    "flag = False\n",
    "for _ in range (n):\n",
    "    x = int(input())\n",
    "    if x == 42:\n",
    "        flag = True\n",
    "        break\n",
    "if flag:\n",
    "    print(\"I've found the meaning of life!\")\n",
    "else:\n",
    "    print(\"It's a joke!\")\n",
    "    \n"
   ]
  },
  {
   "cell_type": "code",
   "execution_count": 23,
   "id": "c0b5369b-3c30-4c5b-98bc-de1d55df3838",
   "metadata": {},
   "outputs": [
    {
     "name": "stdin",
     "output_type": "stream",
     "text": [
      " 1 10\n"
     ]
    },
    {
     "name": "stdout",
     "output_type": "stream",
     "text": [
      "17\n"
     ]
    }
   ],
   "source": [
    "#w4a6 :\n",
    "a, b =map(int,input().split(' '))\n",
    "if ( a >= 0 and b >= 0 and a <= b):\n",
    "    def so_nguyen_to(n):\n",
    "        if n < 2:\n",
    "            return False\n",
    "        if n == 2:\n",
    "            return True\n",
    "        if n % 2 == 0:\n",
    "            return False\n",
    "        i = 3\n",
    "        while i*i <= n :\n",
    "            if n % i == 0:\n",
    "                return False\n",
    "            i += 2\n",
    "        return True\n",
    "        \n",
    "    tong = sum(i for i in range(a, b+1) if so_nguyen_to(i))\n",
    "    print(tong)\n",
    "else:\n",
    "    print(\"vui lòng nhập số nguyên dương và a < b\")\n",
    "\n",
    "    \n",
    "    \n",
    "        \n",
    "            \n",
    "\n"
   ]
  },
  {
   "cell_type": "code",
   "execution_count": 1,
   "id": "7b44760e-4f3a-4835-886d-7464f70f1b7b",
   "metadata": {},
   "outputs": [
    {
     "name": "stdin",
     "output_type": "stream",
     "text": [
      "Nhập số nguyên dương >= 2 10\n"
     ]
    },
    {
     "name": "stdout",
     "output_type": "stream",
     "text": [
      "5\n"
     ]
    }
   ],
   "source": [
    "# W4A7 \n",
    "#\"[LargestPrimeFactor] \n",
    "#Nhập vào số nguyên dương n (n ≥ 2). Hãy in ra ước số nguyên tố lớn nhất của n.\n",
    "n = int(input(\"Nhập số nguyên dương >= 2\"))\n",
    "if n < 2:\n",
    "    print(\"Error\")\n",
    "else:\n",
    "    i = 2\n",
    "    largest = 1\n",
    "    while i * i <= n:\n",
    "        if n % i == 0:\n",
    "            largest = i\n",
    "            while n % i == 0: #loai het boi cua i\n",
    "                n //= i\n",
    "            i += 1\n",
    "    # nếu còn n > 1 nó là ước nuyên tố lớn nhất\n",
    "    if n > 1:\n",
    "        largest = n\n",
    "    print(int(largest))\n",
    "            \n",
    "                \n",
    "        \n",
    "    \n",
    "        \n",
    "    \n",
    "    "
   ]
  },
  {
   "cell_type": "code",
   "execution_count": 2,
   "id": "61c5cdf0-17ff-48d9-9fa8-6917b7046fcc",
   "metadata": {},
   "outputs": [
    {
     "name": "stdin",
     "output_type": "stream",
     "text": [
      "Nhập số nguyên dương n: 56\n"
     ]
    },
    {
     "name": "stdout",
     "output_type": "stream",
     "text": [
      "So can tim la 121\n"
     ]
    }
   ],
   "source": [
    "#w4a8 \n",
    "n = int(input(\"Nhập số nguyên dương n:\"))\n",
    "reverse = str(\"\")\n",
    "#Tao mot xau reverse de dao nguoc so nguyen n\n",
    "\n",
    "check = 0\n",
    "while check == 0:\n",
    "    tmp = n\n",
    "    reverse = \"\"\n",
    "    # su dung ham lap while de dao nguoc xau\n",
    "    while tmp > 0:\n",
    "        reverse += str(tmp % 10) #lay chu so hang don vi(ben phai ngoai cung)de cong vao xau\n",
    "        tmp //= 10 #loai bo chu so hang don vi do\n",
    "        #vd: 12773[5] -> 1277[3] -> 127[7] -> 12[7] -> 1[2] -> [1]\n",
    "        #reverse: 5 -> 53 -> 537 -> 5377 -> 53772 -> 537721\n",
    "    m = 0 \n",
    "    # su dung ham lap for + toan cap 1 de chuyen xau thanh so nguyen duong\n",
    "    for x in reverse:\n",
    "        m = m * 10 +int(x)\n",
    "    #cong lai so nguyen duong do vao n\n",
    "    n += m\n",
    "    #chuyen hoa lai thanh xau de kiem tra xau doi xung\n",
    "    s = str(n)\n",
    "    check = 1\n",
    "    for i in range(0, len(s) // 2):\n",
    "        #kiem tra xem [chu cai thu i tu trai sang phai] co bang [chu cai thu i tu phai sang trai hay khong]\n",
    "        #neu bang thi kiem tra tiep, con neu khong bang -> Ro rang khong phai xau doi xung, gan check = 0\n",
    "        if (s[i] != s[len(s) -1 -i]):\n",
    "            check = 0\n",
    "    #khi check = 1 -> xau do da la xau doi xung roi thi thoat vong lap va in ra so do\n",
    "    #nguoc lai khi check = 0 (chua dat duoc ket qua can dat) -> thuc hien tiep theo yeu cau de\n",
    "\n",
    "#in ra ket qua doi xung tim duoc\n",
    "print(f'So can tim la {n}')\n",
    "    \n",
    "    "
   ]
  },
  {
   "cell_type": "code",
   "execution_count": 5,
   "id": "215e9526-d103-4d63-9cb3-16e9f638f270",
   "metadata": {},
   "outputs": [
    {
     "name": "stdin",
     "output_type": "stream",
     "text": [
      "Nhập số nguyên dương n 100\n"
     ]
    },
    {
     "name": "stdout",
     "output_type": "stream",
     "text": [
      "1 4 9 16 25 36 49 64 81 "
     ]
    }
   ],
   "source": [
    "#w4a9\n",
    "n = int(input(\"Nhập số nguyên dương n\"))\n",
    "i = 1\n",
    "flag = False # co de ktra co so nao thoa man k\n",
    "while i * i <= n:\n",
    "    a = i * i\n",
    "    b = str(a)\n",
    "#kiem tra cac chu so co doi mot khac nhau k\n",
    "    unique = True\n",
    "    for j in range(len(b)):\n",
    "        for k in range(j+1, len(b)):\n",
    "             if b[j] == b[k]:\n",
    "                unique = False\n",
    "                break\n",
    "        if not unique:\n",
    "            break\n",
    "    if unique:\n",
    "        print(a, end = \" \")\n",
    "        flag = True\n",
    "    i += 1\n",
    "if not flag:\n",
    "    print(\"No number\")\n",
    "\n",
    "    \n"
   ]
  },
  {
   "cell_type": "code",
   "execution_count": 1,
   "id": "0cb1ab2d-d1bb-41f1-b3b5-d37da4020e63",
   "metadata": {},
   "outputs": [
    {
     "name": "stdin",
     "output_type": "stream",
     "text": [
      "nhập số nguyên dương n 10\n"
     ]
    },
    {
     "name": "stdout",
     "output_type": "stream",
     "text": [
      "9 20\n"
     ]
    }
   ],
   "source": [
    "#w4a10\n",
    "n = int(input(\"nhập số nguyên dương n\"))\n",
    "do_dai_day_lon_nhat = 0\n",
    "so_co_do_dai_lon_nhat = 1 \n",
    "for x in range (1, n+1):\n",
    "    count = 1\n",
    "    a = x\n",
    "    while a != 1:\n",
    "        if a % 2 == 0:\n",
    "            a //= 2\n",
    "        else:\n",
    "            a = 3 * a + 1\n",
    "        count += 1\n",
    "#ket qua\n",
    "    if (count > do_dai_day_lon_nhat) or (count == do_dai_day_lon_nhat and x < so_co_do_dai_lon_nhat):\n",
    "       do_dai_day_lon_nhat = count\n",
    "       so_co_do_dai_lon_nhat = x\n",
    "print(so_co_do_dai_lon_nhat, do_dai_day_lon_nhat)\n",
    "    \n",
    "    \n"
   ]
  },
  {
   "cell_type": "code",
   "execution_count": 2,
   "id": "812f131e-b91f-4f9d-b4bc-aecd03ce3c93",
   "metadata": {},
   "outputs": [
    {
     "name": "stdin",
     "output_type": "stream",
     "text": [
      "nhập số nguyên dương n < 10 mũ 6 2000\n"
     ]
    },
    {
     "name": "stdout",
     "output_type": "stream",
     "text": [
      "16\n"
     ]
    }
   ],
   "source": [
    "#W4A11 Viết chương trình đếm số lượng ước số chẵn của số nguyên dương n với n < 10^6.\n",
    "n = int(input(\"nhập số nguyên dương n < 10 mũ 6\"))\n",
    "count = 0\n",
    "for i in range(1, n+1):\n",
    "    if (n % i == 0) and (i % 2 == 0):\n",
    "        count += 1\n",
    "print(count)\n",
    "        \n"
   ]
  },
  {
   "cell_type": "code",
   "execution_count": 2,
   "id": "3d40f7ed-4f78-494f-9fc5-f98fbe982158",
   "metadata": {},
   "outputs": [
    {
     "name": "stdin",
     "output_type": "stream",
     "text": [
      "nhập số tiền gửi vào ngân hàng với đơn vị đồng 1000000\n",
      "nhập số tháng gửi tiết kiệm 12\n"
     ]
    },
    {
     "name": "stdout",
     "output_type": "stream",
     "text": [
      "1087311\n"
     ]
    }
   ],
   "source": [
    "#w4a12\n",
    "X = int(input(\"nhập số tiền gửi vào ngân hàng với đơn vị đồng\"))\n",
    "N = int(input(\"nhập số tháng gửi tiết kiệm\"))\n",
    "tong = X * (1 + 0.007)**N\n",
    "print(f'{tong:.0f}')\n"
   ]
  },
  {
   "cell_type": "code",
   "execution_count": 4,
   "id": "52eff5ca-ed1e-42d4-a00a-3b9a83d1d828",
   "metadata": {},
   "outputs": [
    {
     "name": "stdin",
     "output_type": "stream",
     "text": [
      " 220 284\n"
     ]
    },
    {
     "name": "stdout",
     "output_type": "stream",
     "text": [
      "true\n"
     ]
    }
   ],
   "source": [
    "#w4a13\n",
    "a, b = map(int,input().split(' '))\n",
    "sum_1 = 0\n",
    "for i in range(1, a+1):\n",
    "    if (a % i == 0):\n",
    "        sum_1 += i\n",
    "sum_2 = 0\n",
    "for j in range(1, b+1):\n",
    "    if (b % j == 0):\n",
    "        sum_2 += j\n",
    "if sum_1 == sum_2:\n",
    "    print(\"true\")\n",
    "else:\n",
    "    print(\"false\")\n",
    "\n",
    "    "
   ]
  },
  {
   "cell_type": "code",
   "execution_count": 5,
   "id": "e2a56bdf-b18b-43a3-b768-f447c34c428f",
   "metadata": {},
   "outputs": [
    {
     "name": "stdin",
     "output_type": "stream",
     "text": [
      " 12 24\n"
     ]
    },
    {
     "name": "stdout",
     "output_type": "stream",
     "text": [
      "12\n"
     ]
    }
   ],
   "source": [
    "#w4a14 [GCD]\n",
    "import math\n",
    "m, n = map(int,input().split(' '))\n",
    "if m>0 and n>0:\n",
    "    ucln = math.gcd(m, n)\n",
    "    print(ucln)\n",
    "else:\n",
    "    print(\"nhập m,n số dương\")"
   ]
  },
  {
   "cell_type": "code",
   "execution_count": 5,
   "id": "9f58357b-d3d2-4faf-ac01-710f52352fb9",
   "metadata": {},
   "outputs": [
    {
     "name": "stdin",
     "output_type": "stream",
     "text": [
      "nhập tổng số con gà và chó 36 100\n"
     ]
    },
    {
     "ename": "ValueError",
     "evalue": "invalid literal for int() with base 10: '36 100'",
     "output_type": "error",
     "traceback": [
      "\u001b[1;31m---------------------------------------------------------------------------\u001b[0m",
      "\u001b[1;31mValueError\u001b[0m                                Traceback (most recent call last)",
      "Cell \u001b[1;32mIn[5], line 2\u001b[0m\n\u001b[0;32m      1\u001b[0m \u001b[38;5;66;03m#w4a15\u001b[39;00m\n\u001b[1;32m----> 2\u001b[0m a \u001b[38;5;241m=\u001b[39m \u001b[38;5;28mint\u001b[39m(\u001b[38;5;28minput\u001b[39m(\u001b[38;5;124m\"\u001b[39m\u001b[38;5;124mnhập tổng số con gà và chó\u001b[39m\u001b[38;5;124m\"\u001b[39m))\n\u001b[0;32m      3\u001b[0m b \u001b[38;5;241m=\u001b[39m \u001b[38;5;28mint\u001b[39m(\u001b[38;5;28minput\u001b[39m(\u001b[38;5;124m\"\u001b[39m\u001b[38;5;124mnhập số chân của gà và chó\u001b[39m\u001b[38;5;124m\"\u001b[39m))\n\u001b[0;32m      5\u001b[0m flag \u001b[38;5;241m=\u001b[39m \u001b[38;5;28;01mFalse\u001b[39;00m\n",
      "\u001b[1;31mValueError\u001b[0m: invalid literal for int() with base 10: '36 100'"
     ]
    }
   ],
   "source": [
    "#w4a15\n",
    "a = int(input(\"nhập tổng số con gà và chó\"))\n",
    "b = int(input(\"nhập số chân của gà và chó\"))\n",
    "\n",
    "flag = False\n",
    "for cho in range(a+1):\n",
    "    ga = a - cho\n",
    "    if 4 * cho + 2* ga == b:\n",
    "        print(\"số con gà\",ga,\"số con chó\",cho)\n",
    "        flag = True\n",
    "        break\n",
    "if not flag:\n",
    "    print(\"invalid\")\n",
    "        "
   ]
  },
  {
   "cell_type": "code",
   "execution_count": null,
   "id": "06c625a4-e667-4071-a3c3-64a69d692c1b",
   "metadata": {},
   "outputs": [],
   "source": []
  }
 ],
 "metadata": {
  "kernelspec": {
   "display_name": "Python [conda env:base] *",
   "language": "python",
   "name": "conda-base-py"
  },
  "language_info": {
   "codemirror_mode": {
    "name": "ipython",
    "version": 3
   },
   "file_extension": ".py",
   "mimetype": "text/x-python",
   "name": "python",
   "nbconvert_exporter": "python",
   "pygments_lexer": "ipython3",
   "version": "3.13.5"
  }
 },
 "nbformat": 4,
 "nbformat_minor": 5
}
